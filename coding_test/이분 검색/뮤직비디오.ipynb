{
 "cells": [
  {
   "cell_type": "markdown",
   "metadata": {},
   "source": [
    "#### 뮤직비디오(결정알고리즘)\n",
    "#### 지니레코드에서는 불세출의 가수 조영필의 라이브 동영상을 DVD로 만들어 판매하려 한다.\n",
    "#### DVD에는 총 N개의 곡이 들어가는데, DVD에 녹화할 때에는 라이브에서의 순서가 그대로 유지\n",
    "#### 되어야 한다. 순서가 바뀌는 것을 우리의 가수 조영필씨가 매우 싫어한다. 즉, 1번 노래와 5번\n",
    "#### 노래를 같은 DVD에 녹화하기 위해서는 1번과 5번 사이의 모든 노래도 같은 DVD에 녹화해야\n",
    "#### 한다. 또한 한 노래를 쪼개서 두 개의 DVD에 녹화하면 안된다.\n",
    "#### 지니레코드 입장에서는 이 DVD가 팔릴 것인지 확신할 수 없기 때문에 이 사업에 낭비되는\n",
    "#### DVD를 가급적 줄이려고 한다. 고민 끝에 지니레코드는 M개의 DVD에 모든 동영상을 녹화하기\n",
    "#### 로 하였다. 이 때 DVD의 크기(녹화 가능한 길이)를 최소로 하려고 한다. 그리고 M개의 DVD는\n",
    "#### 모두 같은 크기여야 제조원가가 적게 들기 때문에 꼭 같은 크기로 해야 한다.\n",
    "#### ▣ 입력설명\n",
    "#### 첫째 줄에 자연수 N(1≤N≤1,000), M(1≤M≤N)이 주어진다. 다음 줄에는 조영필이 라이브에서\n",
    "#### 부른 순서대로 부른 곡의 길이가 분 단위로(자연수) 주어진다. 부른 곡의 길이는 10,000분을\n",
    "#### 넘지 않는다고 가정하자.\n",
    "#### ▣ 출력설명\n",
    "#### 첫 번째 줄부터 DVD의 최소 용량 크기를 출력하세요.\n",
    "#### ▣ 입력예제 1\n",
    "#### 9 3\n",
    "#### 1 2 3 4 5 6 7 8 9\n",
    "#### ▣ 출력예제 1\n",
    "#### 17\n",
    "#### 설명 : 3개의 DVD용량이 17분짜리이면 (1, 2, 3, 4, 5) (6, 7), (8, 9) 이렇게 3개의 DVD로 녹음을 할수 있다. \n",
    "#### 17분 용량보다 작은 용량으로는 3개의 DVD에 모든 영상을 녹화할 수 없다"
   ]
  },
  {
   "cell_type": "code",
   "execution_count": 3,
   "metadata": {
    "scrolled": true
   },
   "outputs": [
    {
     "name": "stdout",
     "output_type": "stream",
     "text": [
      "9 3\n"
     ]
    }
   ],
   "source": [
    "N,M = [int(x) for x in input().strip().split(' ')]"
   ]
  },
  {
   "cell_type": "code",
   "execution_count": 34,
   "metadata": {},
   "outputs": [
    {
     "name": "stdout",
     "output_type": "stream",
     "text": [
      "1 2 3 4 5 6 7 8 9\n"
     ]
    }
   ],
   "source": [
    "songs = [int(x) for x in input().strip().split(' ')]"
   ]
  },
  {
   "cell_type": "code",
   "execution_count": 35,
   "metadata": {},
   "outputs": [],
   "source": [
    "start = 1\n",
    "end = sum(songs)\n",
    "MAX = max(songs)"
   ]
  },
  {
   "cell_type": "code",
   "execution_count": 36,
   "metadata": {},
   "outputs": [],
   "source": [
    "def count(disk):\n",
    "    cnt = 1\n",
    "    sums = 0 \n",
    "    for x in songs:\n",
    "        if sums + x > disk:\n",
    "            cnt +=1\n",
    "            sums = x\n",
    "        else:\n",
    "            sums += x\n",
    "    return cnt\n",
    "        "
   ]
  },
  {
   "cell_type": "code",
   "execution_count": 37,
   "metadata": {},
   "outputs": [
    {
     "name": "stdout",
     "output_type": "stream",
     "text": [
      "17\n"
     ]
    }
   ],
   "source": [
    "ans = 0\n",
    "while start <= end:\n",
    "    mid = (start+end)//2\n",
    "    expected = count(mid)\n",
    "    if mid >=MAX and expected <= M:\n",
    "        ans = mid\n",
    "        end = mid - 1\n",
    "    else:\n",
    "        start = mid + 1\n",
    "\n",
    "print(ans)"
   ]
  }
 ],
 "metadata": {
  "kernelspec": {
   "display_name": "Python 3",
   "language": "python",
   "name": "python3"
  },
  "language_info": {
   "codemirror_mode": {
    "name": "ipython",
    "version": 3
   },
   "file_extension": ".py",
   "mimetype": "text/x-python",
   "name": "python",
   "nbconvert_exporter": "python",
   "pygments_lexer": "ipython3",
   "version": "3.7.4"
  }
 },
 "nbformat": 4,
 "nbformat_minor": 2
}
