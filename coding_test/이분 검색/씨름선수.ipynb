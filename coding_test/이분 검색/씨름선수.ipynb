{
 "cells": [
  {
   "cell_type": "markdown",
   "metadata": {},
   "source": [
    "#### 씨름 선수(그리디)\n",
    "#### 현수는 씨름 감독입니다. 현수는 씨름 선수를 선발공고를 냈고, N명의 지원자가 지원을 했습\n",
    "#### 니다. 현수는 각 지원자의 키와 몸무게 정보를 알고 있습니다.\n",
    "#### 현수는 씨름 선수 선발 원칙을 다음과 같이 정했습니다.\n",
    "#### “다른 모든 지원자와 일대일 비교하여 키와 몸무게 중 적어도 하나는 크거나, 무거운 지원자\n",
    "#### 만 뽑기로 했습니다.”\n",
    "#### 만약 A라는 지원자보다 키도 크고 몸무게도 무거운 지원자가 존재한다면 A지원자는 탈락입니\n",
    "#### 다.\n",
    "#### ▣ 입력설명\n",
    "#### 첫째 줄에 지원자의 수 N(5<=N<=50)이 주어집니다.\n",
    "#### 두 번째 줄부터 N명의 키와 몸무게 정보가 차례로 주어집니다. 각 선수의 키와 몸무게는 모두\n",
    "#### 다릅니다.\n",
    "#### ▣ 출력설명\n",
    "#### 첫째 줄에 씨름 선수로 뽑히는 최대 인원을 출력하세요.\n",
    "#### ▣ 입력예제 1\n",
    "#### 5\n",
    "#### 172 67\n",
    "#### 183 65\n",
    "#### 180 70\n",
    "#### 170 72\n",
    "#### 181 60\n",
    "#### ▣ 출력예제 1\n",
    "#### 3\n",
    "#### 출력설명\n",
    "#### (183, 65), (180, 70), (170, 72)가 선발됩니다. (181, 60)은 (183, 65) 때문에 탈락하고, (172, 67)은\n",
    "#### (180, 70) 때문에 탈락합니다."
   ]
  },
  {
   "cell_type": "code",
   "execution_count": 2,
   "metadata": {},
   "outputs": [
    {
     "name": "stdout",
     "output_type": "stream",
     "text": [
      "5\n",
      "172 67\n",
      "183 65\n",
      "180 70\n",
      "170 72\n",
      "181 60\n"
     ]
    }
   ],
   "source": [
    "n = int(input())\n",
    "SS = []\n",
    "for i in range(n):\n",
    "    s,e = map(int,input().split())\n",
    "    SS.append((s,e))"
   ]
  },
  {
   "cell_type": "code",
   "execution_count": 8,
   "metadata": {},
   "outputs": [],
   "source": [
    "height = sorted(SS,reverse = True)"
   ]
  },
  {
   "cell_type": "code",
   "execution_count": 9,
   "metadata": {},
   "outputs": [
    {
     "data": {
      "text/plain": [
       "[(183, 65), (181, 60), (180, 70), (172, 67), (170, 72)]"
      ]
     },
     "execution_count": 9,
     "metadata": {},
     "output_type": "execute_result"
    }
   ],
   "source": [
    "height"
   ]
  },
  {
   "cell_type": "code",
   "execution_count": 10,
   "metadata": {},
   "outputs": [
    {
     "name": "stdout",
     "output_type": "stream",
     "text": [
      "3\n"
     ]
    }
   ],
   "source": [
    "max_kg = 0\n",
    "cnt = 0\n",
    "for x in height:\n",
    "    if x[1] > max_kg:\n",
    "        cnt +=1\n",
    "        max_kg = x[1]\n",
    "print(cnt)"
   ]
  }
 ],
 "metadata": {
  "kernelspec": {
   "display_name": "Python 3",
   "language": "python",
   "name": "python3"
  },
  "language_info": {
   "codemirror_mode": {
    "name": "ipython",
    "version": 3
   },
   "file_extension": ".py",
   "mimetype": "text/x-python",
   "name": "python",
   "nbconvert_exporter": "python",
   "pygments_lexer": "ipython3",
   "version": "3.7.4"
  }
 },
 "nbformat": 4,
 "nbformat_minor": 2
}
