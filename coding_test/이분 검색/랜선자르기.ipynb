{
 "cells": [
  {
   "cell_type": "markdown",
   "metadata": {},
   "source": [
    "### 랜선자르기(결정알고리즘)\n",
    "### 엘리트 학원은 자체적으로 K개의 랜선을 가지고 있다. 그러나 K개의 랜선은 길이가 제각각이\n",
    "### 다. 선생님은 랜선을 모두 N개의 같은 길이의 랜선으로 만들고 싶었기 때문에 K개의 랜선을\n",
    "### 잘라서 만들어야 한다. 예를 들어 300cm 짜리 랜선에서 140cm 짜리 랜선을 두 개 잘라내면\n",
    "### 20cm 은 버려야 한다. (이미 자른 랜선은 붙일 수 없다.)\n",
    "### 편의를 위해 랜선을 자를때 손실되는 길이는 없다고 가정하며, 기존의 K개의 랜선으로 N개의\n",
    "### 랜선을 만들 수 없는 경우는 없다고 가정하자. 그리고 자를 때는 항상 센티미터 단위로 정수\n",
    "### 길이만큼 자른다고 가정하자. N개보다 많이 만드는 것도 N개를 만드는 것에 포함된다. 이때\n",
    "### 만들 수 있는 최대 랜선의 길이를 구하는 프로그램을 작성하시오.\n",
    "### ▣ 입력설명\n",
    "### 첫째 줄에는 엘리트학원이 이미 가지고 있는 랜선의 개수 K, 그리고 필요한 랜선의 개수 N이\n",
    "### 입력된다. K는 1이상 10,000이하의 정수이고, N은 1이상 1,000,000이하의 정수이다. 그리고\n",
    "### 항상 K ≦ N 이다. 그 후 K줄에 걸쳐 이미 가지고 있는 각 랜선의 길이가 센티미터 단위의\n",
    "### 2^31 -1 이하의 자연수로 주어진다.\n",
    "### ▣ 출력설명\n",
    "### 첫째 줄에 N개를 만들 수 있는 랜선의 최대 길이를 센티미터 단위의 정수로 출력한다.\n",
    "### ▣ 입력예제 1\n",
    "### 4 11\n",
    "### 802\n",
    "### 743\n",
    "### 457\n",
    "### 539\n",
    "### ▣ 출력예제 1\n",
    "### 200"
   ]
  },
  {
   "cell_type": "code",
   "execution_count": 1,
   "metadata": {},
   "outputs": [
    {
     "name": "stdout",
     "output_type": "stream",
     "text": [
      "4 11\n"
     ]
    }
   ],
   "source": [
    "K,N = [int(X) for X in input().strip().split(' ')]"
   ]
  },
  {
   "cell_type": "code",
   "execution_count": 2,
   "metadata": {},
   "outputs": [
    {
     "name": "stdout",
     "output_type": "stream",
     "text": [
      "802\n",
      "743\n",
      "457\n",
      "539\n"
     ]
    }
   ],
   "source": [
    "strings = []\n",
    "for _ in range(K):\n",
    "    strings.append(int(input()))"
   ]
  },
  {
   "cell_type": "code",
   "execution_count": 12,
   "metadata": {},
   "outputs": [],
   "source": [
    "start = 1\n",
    "end = max(strings)"
   ]
  },
  {
   "cell_type": "code",
   "execution_count": 22,
   "metadata": {},
   "outputs": [
    {
     "name": "stdout",
     "output_type": "stream",
     "text": [
      "200\n"
     ]
    }
   ],
   "source": [
    "while start <= end: #적절한 랜선의 길이를 찾는 알고리즘\n",
    "    mid = (start + end) // 2 #중간 위치\n",
    "    lines = 0 #랜선 수\n",
    "    for i in strings:\n",
    "        lines += i // mid #분할 된 랜선 수\n",
    "        \n",
    "    if lines >= N: #랜선의 개수가 분기점\n",
    "        start = mid + 1\n",
    "    else:\n",
    "        end = mid - 1\n",
    "print(end)"
   ]
  }
 ],
 "metadata": {
  "kernelspec": {
   "display_name": "Python 3",
   "language": "python",
   "name": "python3"
  },
  "language_info": {
   "codemirror_mode": {
    "name": "ipython",
    "version": 3
   },
   "file_extension": ".py",
   "mimetype": "text/x-python",
   "name": "python",
   "nbconvert_exporter": "python",
   "pygments_lexer": "ipython3",
   "version": "3.7.4"
  }
 },
 "nbformat": 4,
 "nbformat_minor": 2
}
