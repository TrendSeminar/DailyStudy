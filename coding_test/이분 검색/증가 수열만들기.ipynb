{
 "cells": [
  {
   "cell_type": "markdown",
   "metadata": {},
   "source": [
    "#### 증가수열 만들기(그리디)\n",
    "#### 1부터 N까지의 모든 자연수로 구성된 길이 N의 수열이 주어집니다.\n",
    "#### 이 수열의 왼쪽 맨 끝 숫자 또는 오른쪽 맨 끝 숫자 중 하나를 가져와 나열하여 가장 긴 증가수열\n",
    "#### 을 만듭니다. 이때 수열에서 가져온 숫자(왼쪽 맨 끝 또는 오른쪽 맨 끝)는 그 수열에서 제거됩니\n",
    "#### 다.\n",
    "#### 예를 들어 2 4 5 1 3 이 주어지면 만들 수 있는 가장 긴 증가수열의 길이는 4입니다.\n",
    "#### 맨 처음 왼쪽 끝에서 2를 가져오고, 그 다음 오른쪽 끝에서 3을 가져오고, 왼쪽 끝에서 4,\n",
    "#### 왼쪽 끝에서 5를 가져와 2 3 4 5 증가수열을 만들 수 있습니다.\n",
    "#### ▣ 입력설명\n",
    "#### 첫째 줄에 자연수 N(3<=N<=100)이 주어집니다.\n",
    "#### 두 번째 줄에 N개로 구성된 수열이 주어집니다.\n",
    "#### ▣ 출력설명\n",
    "#### 첫째 줄에 최대 증가수열의 길이를 출력합니다.\n",
    "#### 두 번째 줄에 가져간 순서대로 왼쪽 끝에서 가져갔으면 ‘L', 오른쪽 끝에서 가져갔으면 ’R'를 써\n",
    "#### 간 문자열을 출력합니다.(단 마지막에 남은 값은 왼쪽 끝으로 생각합니다.)\n",
    "#### ▣ 입력예제 1\n",
    "#### 5\n",
    "#### 2 4 5 1 3\n",
    "#### ▣ 출력예제 1\n",
    "#### 4\n",
    "#### LRLL\n",
    "#### ▣ 입력예제 2\n",
    "#### 10\n",
    "#### 3 2 10 1 5 4 7 8 9 6\n",
    "#### ▣ 출력예제 2\n",
    "#### 3\n",
    "#### LRR"
   ]
  },
  {
   "cell_type": "code",
   "execution_count": 46,
   "metadata": {},
   "outputs": [
    {
     "name": "stdout",
     "output_type": "stream",
     "text": [
      "10\n",
      "3 2 10 1 5 4 7 8 9 6\n"
     ]
    }
   ],
   "source": [
    "N = int(input())\n",
    "lst = list(map(int,input().strip().split(' ')))"
   ]
  },
  {
   "cell_type": "code",
   "execution_count": 48,
   "metadata": {},
   "outputs": [],
   "source": [
    "lt = 0\n",
    "rt = len(lst)-1\n",
    "\n",
    "stack = []\n",
    "answer = ''\n",
    "MIN = 0\n",
    "\n",
    "while lt <= rt:\n",
    "    if lst[lt] > MIN:\n",
    "        stack.append((lst[lt],'L'))\n",
    "    if lst[rt] > MIN:\n",
    "        stack.append((lst[rt],'R'))\n",
    "    if len(stack) == 0:\n",
    "        break\n",
    "    else:\n",
    "        stack.sort()\n",
    "        MIN = stack[0][0]\n",
    "        answer += stack[0][1]\n",
    "        if stack[0][1] == 'L':\n",
    "            lt +=1\n",
    "        if stack[0][1] == 'R':\n",
    "            rt -= 1\n",
    "    stack.clear()\n"
   ]
  },
  {
   "cell_type": "code",
   "execution_count": 51,
   "metadata": {},
   "outputs": [
    {
     "name": "stdout",
     "output_type": "stream",
     "text": [
      "3\n",
      "LRR\n"
     ]
    }
   ],
   "source": [
    "print(len(answer))\n",
    "print(answer)"
   ]
  }
 ],
 "metadata": {
  "kernelspec": {
   "display_name": "Python 3",
   "language": "python",
   "name": "python3"
  },
  "language_info": {
   "codemirror_mode": {
    "name": "ipython",
    "version": 3
   },
   "file_extension": ".py",
   "mimetype": "text/x-python",
   "name": "python",
   "nbconvert_exporter": "python",
   "pygments_lexer": "ipython3",
   "version": "3.7.4"
  }
 },
 "nbformat": 4,
 "nbformat_minor": 2
}
