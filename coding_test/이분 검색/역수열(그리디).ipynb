{
 "cells": [
  {
   "cell_type": "markdown",
   "metadata": {},
   "source": [
    "#### 역수열(그리디)\n",
    "#### 1부터 n까지의 수를 한 번씩만 사용하여 이루어진 수열이 있을 때, 1부터 n까지 각각의 수 앞\n",
    "#### 에 놓여 있는 자신보다 큰 수들의 개수를 수열로 표현한 것을 역수열이라 한다.\n",
    "#### 예를 들어 다음과 같은 수열의 경우\n",
    "####  4 8 6 2 5 1 3 7\n",
    "#### 1앞에 놓인 1보다 큰 수는 4, 8, 6, 2, 5. 이렇게 5개이고,\n",
    "#### 2앞에 놓인 2보다 큰 수는 4, 8, 6. 이렇게 3개,\n",
    "#### 3앞에 놓인 3보다 큰 수는 4, 8, 6, 5 이렇게 4개......\n",
    "#### 따라서 4 8 6 2 5 1 3 7의 역수열은 5 3 4 0 2 1 1 0 이 된다.\n",
    "#### n과 1부터 n까지의 수를 사용하여 이루어진 수열의 역수열이 주어졌을 때, 원래의 수열을 출\n",
    "#### 력하는 프로그램을 작성하세요.\n",
    "#### ▣ 입력설명\n",
    "#### 첫 번째 줄에 자연수 N(3<=N<100)이 주어지고, 두 번째 줄에는 역수열이 숫자 사이에 한\n",
    "#### 칸의 공백을 두고 주어진다.\n",
    "#### ▣ 출력설명\n",
    "#### 원래 수열을 출력합니다.\n",
    "#### ▣ 입력예제 1\n",
    "#### 8\n",
    "#### 5 3 4 0 2 1 1 0\n",
    "#### ▣ 출력예제 1\n",
    "#### 4 8 6 2 5 1 3 7"
   ]
  },
  {
   "cell_type": "code",
   "execution_count": 1,
   "metadata": {},
   "outputs": [
    {
     "name": "stdout",
     "output_type": "stream",
     "text": [
      "8\n"
     ]
    }
   ],
   "source": [
    "N = int(input())"
   ]
  },
  {
   "cell_type": "code",
   "execution_count": 42,
   "metadata": {
    "scrolled": true
   },
   "outputs": [
    {
     "name": "stdout",
     "output_type": "stream",
     "text": [
      "5 3 4 0 2 1 1 0\n"
     ]
    }
   ],
   "source": [
    "a = list(map(int,input().strip().split(' ')))"
   ]
  },
  {
   "cell_type": "code",
   "execution_count": 43,
   "metadata": {},
   "outputs": [],
   "source": [
    "answer = [0]*N\n",
    "for i in range(N):\n",
    "    for j in range(N):\n",
    "        if a[i] == 0 and answer[j] ==0:\n",
    "            answer[j] = i+1\n",
    "            break\n",
    "        elif answer[j]==0:\n",
    "            a[i]-=1"
   ]
  },
  {
   "cell_type": "code",
   "execution_count": 45,
   "metadata": {},
   "outputs": [],
   "source": [
    "answer = [str(x) for x in answer]"
   ]
  },
  {
   "cell_type": "code",
   "execution_count": 46,
   "metadata": {},
   "outputs": [
    {
     "name": "stdout",
     "output_type": "stream",
     "text": [
      "4 8 6 2 5 1 3 7\n"
     ]
    }
   ],
   "source": [
    "print(' '.join(answer))"
   ]
  }
 ],
 "metadata": {
  "kernelspec": {
   "display_name": "Python 3",
   "language": "python",
   "name": "python3"
  },
  "language_info": {
   "codemirror_mode": {
    "name": "ipython",
    "version": 3
   },
   "file_extension": ".py",
   "mimetype": "text/x-python",
   "name": "python",
   "nbconvert_exporter": "python",
   "pygments_lexer": "ipython3",
   "version": "3.7.4"
  }
 },
 "nbformat": 4,
 "nbformat_minor": 2
}
