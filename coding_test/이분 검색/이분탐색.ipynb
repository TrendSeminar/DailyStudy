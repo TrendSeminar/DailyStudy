{
 "cells": [
  {
   "cell_type": "markdown",
   "metadata": {},
   "source": [
    "### 이분검색\n",
    "### 임의의 N개의 숫자가 입력으로 주어집니다. N개의 수를 오름차순으로 정렬한 다음 N개의 수\n",
    "### 중 한 개의 수인 M이 주어지면 이분검색으로 M이 정렬된 상태에서 몇 번째에 있는지 구하는\n",
    "### 프로그램을 작성하세요. 단 중복값은 존재하지 않습니다.\n",
    "### ▣ 입력설명\n",
    "### 첫 줄에 한 줄에 자연수 N(3<=N<=1,000,000)과 M이 주어집니다.\n",
    "### 두 번째 줄에 N개의 수가 공백을 사이에 두고 주어집니다.\n",
    "### ▣ 출력설명\n",
    "### 첫 줄에 정렬 후 M의 값의 위치 번호를 출력한다.\n",
    "### ▣ 입력예제 1\n",
    "### 8 32\n",
    "### 23 87 65 12 57 32 99 81\n",
    "### ▣ 출력예제 1\n",
    "### 3"
   ]
  },
  {
   "cell_type": "code",
   "execution_count": 2,
   "metadata": {},
   "outputs": [
    {
     "name": "stdout",
     "output_type": "stream",
     "text": [
      "8 32\n"
     ]
    }
   ],
   "source": [
    "N,M = [int(x) for x in input().split(' ')]"
   ]
  },
  {
   "cell_type": "code",
   "execution_count": 4,
   "metadata": {},
   "outputs": [
    {
     "name": "stdout",
     "output_type": "stream",
     "text": [
      "23 87 65 12 57 32 99 81\n"
     ]
    }
   ],
   "source": [
    "lst = [int(x) for x in input().split(' ')]"
   ]
  },
  {
   "cell_type": "code",
   "execution_count": 14,
   "metadata": {},
   "outputs": [
    {
     "name": "stdout",
     "output_type": "stream",
     "text": [
      "3\n"
     ]
    }
   ],
   "source": [
    "lst.sort()\n",
    "lt = 0\n",
    "rt = N-1\n",
    "while lt <= rt:\n",
    "    mid = (lt+rt)//2\n",
    "    if lst[mid] < M:\n",
    "        lt = mid + 1\n",
    "    elif lst[mid] > M:\n",
    "        rt = mid -1\n",
    "    else:\n",
    "        print(mid+1)\n",
    "        break"
   ]
  }
 ],
 "metadata": {
  "kernelspec": {
   "display_name": "Python 3",
   "language": "python",
   "name": "python3"
  },
  "language_info": {
   "codemirror_mode": {
    "name": "ipython",
    "version": 3
   },
   "file_extension": ".py",
   "mimetype": "text/x-python",
   "name": "python",
   "nbconvert_exporter": "python",
   "pygments_lexer": "ipython3",
   "version": "3.7.4"
  }
 },
 "nbformat": 4,
 "nbformat_minor": 2
}
