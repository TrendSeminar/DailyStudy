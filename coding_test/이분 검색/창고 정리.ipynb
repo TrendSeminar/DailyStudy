{
 "cells": [
  {
   "cell_type": "markdown",
   "metadata": {},
   "source": [
    "#### 창고 정리\n",
    "#### 창고에 상자가 가로방향으로 일렬로 쌓여 있습니다.\n",
    "#### 만약 가로의 길이가 7이라면\n",
    "#### 1열은 높이가 6으로 6개의 상자가 쌓여 있고, 2열은 3개의 상자, 3열은 9개의 상자가 쌓여 있\n",
    "#### 으며 높이는 9라고 읽는다.\n",
    "#### 창고 높이 조정은 가장 높은 곳에 상자를 가장 낮은 곳으로 이동하는 것을 말한다.\n",
    "#### 가장 높은 곳이나 가장 낮은 곳이 여러곳이면 그 중 아무거나 선택하면 된다.\n",
    "#### 위에 그림을 1회 높이 조정을 하면 다음과 같아진다.\n",
    "#### 창고의 가로 길이와 각 열의 상자 높이가 주어집니다. m회의 높이 조정을 한 후 가장 높은 곳\n",
    "#### 과 가장 낮은 곳의 차이를 출력하는 프로그램을 작성하세요.\n",
    "\n",
    "#### ▣ 입력설명\n",
    "#### 첫 번째 줄에 창고 가로의 길이인 자연수 L(1<=L<=100)이 주어집니다.\n",
    "#### 두 번째 줄에 L개의 자연수가 공백을 사이에 두고 입력됩니다. 각 자연수는 100을 넘지\n",
    "#### 않습니다\n",
    "#### 세 번째 줄에 높이 조정 횟수인 M(1<=M<=1,000)이 주어집니다.\n",
    "#### ▣ 출력설명\n",
    "#### M회의 높이 조정을 마친 후 가장 높은곳과 가장 낮은 곳의 차이를 출력하세요.\n",
    "#### ▣ 입력예제 1\n",
    "#### 10\n",
    "#### 69 42 68 76 40 87 14 65 76 81\n",
    "#### 50\n",
    "#### ▣ 출력예제 1\n",
    "#### 20"
   ]
  },
  {
   "cell_type": "code",
   "execution_count": 1,
   "metadata": {},
   "outputs": [
    {
     "name": "stdout",
     "output_type": "stream",
     "text": [
      "10\n"
     ]
    }
   ],
   "source": [
    "L = int(input())"
   ]
  },
  {
   "cell_type": "code",
   "execution_count": 9,
   "metadata": {},
   "outputs": [
    {
     "name": "stdout",
     "output_type": "stream",
     "text": [
      "69 42 68 76 40 87 14 65 76 81\n"
     ]
    }
   ],
   "source": [
    "C = list(map(int,input().split()))"
   ]
  },
  {
   "cell_type": "code",
   "execution_count": 8,
   "metadata": {
    "scrolled": true
   },
   "outputs": [
    {
     "name": "stdout",
     "output_type": "stream",
     "text": [
      "50\n"
     ]
    }
   ],
   "source": [
    "M = int(input())"
   ]
  },
  {
   "cell_type": "code",
   "execution_count": 10,
   "metadata": {},
   "outputs": [],
   "source": [
    "C.sort()"
   ]
  },
  {
   "cell_type": "code",
   "execution_count": 14,
   "metadata": {},
   "outputs": [],
   "source": [
    "for _ in range(M):\n",
    "    C[0] = C[0]+1\n",
    "    C[-1] = C[-1]-1\n",
    "    C.sort()"
   ]
  },
  {
   "cell_type": "code",
   "execution_count": 16,
   "metadata": {},
   "outputs": [
    {
     "name": "stdout",
     "output_type": "stream",
     "text": [
      "20\n"
     ]
    }
   ],
   "source": [
    "print(C[-1]-C[0])"
   ]
  },
  {
   "cell_type": "code",
   "execution_count": null,
   "metadata": {},
   "outputs": [],
   "source": []
  }
 ],
 "metadata": {
  "kernelspec": {
   "display_name": "Python 3",
   "language": "python",
   "name": "python3"
  },
  "language_info": {
   "codemirror_mode": {
    "name": "ipython",
    "version": 3
   },
   "file_extension": ".py",
   "mimetype": "text/x-python",
   "name": "python",
   "nbconvert_exporter": "python",
   "pygments_lexer": "ipython3",
   "version": "3.7.4"
  }
 },
 "nbformat": 4,
 "nbformat_minor": 2
}
