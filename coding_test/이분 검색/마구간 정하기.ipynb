{
 "cells": [
  {
   "cell_type": "markdown",
   "metadata": {},
   "source": [
    "#### 마구간 정하기(결정알고리즘)\n",
    "#### N개의 마구간이 수직선상에 있습니다. 각 마구간은 x1, x2, x3, ......, xN의 좌표를 가지며, 마구간간에 \n",
    "#### 좌표가 중복되는 일은 없습니다.\n",
    "#### 현수는 C마리의 말을 가지고 있는데, 이 말들은 서로 가까이 있는 것을 좋아하지 않습니다.\n",
    "#### 각 마구간에는 한 마리의 말만 넣을 수 있고, 가장 가까운 두 말의 거리가 최대가 되게 말을\n",
    "#### 마구간에 배치하고 싶습니다.\n",
    "#### C마리의 말을 N개의 마구간에 배치했을 때 가장 가까운 두 말의 거리가 최대가 되는 그 최대\n",
    "#### 값을 출력하는 프로그램을 작성하세요.\n",
    "#### ▣ 입력설명\n",
    "#### 첫 줄에 자연수 N(3<=N<=200,000)과 C(2<=C<=N)이 공백을 사이에 두고 주어집니다.\n",
    "#### 둘째 줄부터 N개의 줄에 걸쳐 마구간의 좌표 xi(0<=xi<=1,000,000,000)가 한 줄에 하나씩\n",
    "#### 주어집니다.\n",
    "#### ▣ 출력설명\n",
    "#### 첫 줄에 가장 가까운 두 말의 최대 거리를 출력하세요.\n",
    "#### ▣ 입력예제 1\n",
    "#### 5 3\n",
    "#### 1\n",
    "#### 2\n",
    "#### 8\n",
    "#### 4\n",
    "#### 9\n",
    "#### ▣ 출력예제 1\n",
    "#### 3"
   ]
  },
  {
   "cell_type": "code",
   "execution_count": 1,
   "metadata": {},
   "outputs": [
    {
     "name": "stdout",
     "output_type": "stream",
     "text": [
      "5 3\n"
     ]
    }
   ],
   "source": [
    "N, C  = [int(x) for x in input().strip().split(' ')]"
   ]
  },
  {
   "cell_type": "code",
   "execution_count": 2,
   "metadata": {},
   "outputs": [
    {
     "name": "stdout",
     "output_type": "stream",
     "text": [
      "1\n",
      "2\n",
      "8\n",
      "4\n",
      "9\n"
     ]
    }
   ],
   "source": [
    "s = []\n",
    "for _ in range(N):\n",
    "    s.append(int(input()))"
   ]
  },
  {
   "cell_type": "code",
   "execution_count": 3,
   "metadata": {},
   "outputs": [],
   "source": [
    "s.sort()"
   ]
  },
  {
   "cell_type": "code",
   "execution_count": 23,
   "metadata": {},
   "outputs": [],
   "source": [
    "lt = 1\n",
    "rt = s[N-1]"
   ]
  },
  {
   "cell_type": "code",
   "execution_count": 24,
   "metadata": {},
   "outputs": [],
   "source": [
    "def count(length):\n",
    "    cnt = 1\n",
    "    ep = s[0]\n",
    "    for i in range(1,N):\n",
    "        if s[i] - ep >=length:\n",
    "            cnt +=1\n",
    "            ep = s[i]\n",
    "    return cnt"
   ]
  },
  {
   "cell_type": "code",
   "execution_count": 25,
   "metadata": {},
   "outputs": [],
   "source": [
    "ans = 0\n",
    "while lt <= rt:\n",
    "    mid = (lt+rt)//2\n",
    "    if count(mid) >= C:\n",
    "        ans = mid\n",
    "        lt = mid +1\n",
    "    else:\n",
    "        rt = mid -1"
   ]
  },
  {
   "cell_type": "code",
   "execution_count": 26,
   "metadata": {},
   "outputs": [
    {
     "name": "stdout",
     "output_type": "stream",
     "text": [
      "3\n"
     ]
    }
   ],
   "source": [
    "print(ans)"
   ]
  }
 ],
 "metadata": {
  "kernelspec": {
   "display_name": "Python 3",
   "language": "python",
   "name": "python3"
  },
  "language_info": {
   "codemirror_mode": {
    "name": "ipython",
    "version": 3
   },
   "file_extension": ".py",
   "mimetype": "text/x-python",
   "name": "python",
   "nbconvert_exporter": "python",
   "pygments_lexer": "ipython3",
   "version": "3.7.4"
  }
 },
 "nbformat": 4,
 "nbformat_minor": 2
}
