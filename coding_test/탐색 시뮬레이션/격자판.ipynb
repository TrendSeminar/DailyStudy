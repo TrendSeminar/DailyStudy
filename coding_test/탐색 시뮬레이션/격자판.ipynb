{
 "cells": [
  {
   "cell_type": "markdown",
   "metadata": {},
   "source": [
    "#### 격자판 회문수\n",
    "#### 1부터 9까지의 자연수로 채워진 7*7 격자판이 주어지면 격자판 위에서 가로방향 또는\n",
    "#### 세로방향으로 길이 5자리 회문수가 몇 개 있는지 구하는 프로그램을 작성하세요.\n",
    "#### 회문수란 121과 같이 앞에서부터 읽으나 뒤에서부터 읽으나 같은 수를 말합니다.\n",
    "#### 2 4 1 5 3 2 6\n",
    "#### 3 5 1 8 7 1 7\n",
    "#### 8 3 2 7 1 3 8\n",
    "#### 6 1 2 3 2 1 1\n",
    "#### 1 3 1 3 5 3 2\n",
    "#### 1 1 2 5 6 5 2\n",
    "#### 1 2 2 2 2 1 5\n",
    "#### 빨간색처럼 구부러진 경우(87178)는 회문수로 간주하지 않습니다.\n",
    "#### ▣ 입력설명\n",
    "#### 1부터 9까지의 자연수로 채워진 7*7격자판이 주어집니다.\n",
    "#### ▣ 출력설명\n",
    "#### 5자리 회문수의 개수를 출력합니다.\n",
    "#### ▣ 입력예제 1\n",
    "#### 2 4 1 5 3 2 6\n",
    "#### 3 5 1 8 7 1 7\n",
    "#### 8 3 2 7 1 3 8\n",
    "#### 6 1 2 3 2 1 1\n",
    "#### 1 3 1 3 5 3 2\n",
    "#### 1 1 2 5 6 5 2\n",
    "#### 1 2 2 2 2 1 5\n",
    "#### ▣ 출력예제 1\n",
    "#### 3"
   ]
  },
  {
   "cell_type": "code",
   "execution_count": 1,
   "metadata": {},
   "outputs": [
    {
     "name": "stdout",
     "output_type": "stream",
     "text": [
      "2 4 1 5 3 2 6\n",
      "3 5 1 8 7 1 7\n",
      "8 3 2 7 1 3 8\n",
      "6 1 2 3 2 1 1\n",
      "1 3 1 3 5 3 2\n",
      "1 1 2 5 6 5 2\n",
      "1 2 2 2 2 1 5\n"
     ]
    }
   ],
   "source": [
    "matrix = []\n",
    "for _ in range(7):\n",
    "    row = [int(x) for x in input().strip().split(' ')]\n",
    "    matrix.append(row)"
   ]
  },
  {
   "cell_type": "code",
   "execution_count": 26,
   "metadata": {},
   "outputs": [],
   "source": [
    "def check(list1):\n",
    "    L = len(list1)//2\n",
    "    for i in range(L):\n",
    "        if list1[i] == list1[-(i+1)]:\n",
    "            continue\n",
    "        else:\n",
    "            return False\n",
    "    return True"
   ]
  },
  {
   "cell_type": "code",
   "execution_count": 84,
   "metadata": {},
   "outputs": [],
   "source": [
    "cnt = 0\n",
    "answer = []\n",
    "for s in range(7):\n",
    "    for t in range(7):\n",
    "        for i in range(s,7):\n",
    "            row,col = [],[]\n",
    "            for j in range(t,7):\n",
    "                col.append(matrix[j][i])\n",
    "                row.append(matrix[i][j])\n",
    "                if len(col)==5 and len(row) ==5:\n",
    "                    if check(col):\n",
    "                        answer.append(col)\n",
    "                        col = []\n",
    "                    if check(row):\n",
    "                        answer.append(row)\n",
    "                        row = []"
   ]
  },
  {
   "cell_type": "code",
   "execution_count": 87,
   "metadata": {},
   "outputs": [
    {
     "name": "stdout",
     "output_type": "stream",
     "text": [
      "3\n"
     ]
    }
   ],
   "source": [
    "print(len(set([str(x) for x in answer])))"
   ]
  },
  {
   "cell_type": "markdown",
   "metadata": {},
   "source": [
    "## 다른 사람 풀이"
   ]
  },
  {
   "cell_type": "code",
   "execution_count": null,
   "metadata": {},
   "outputs": [],
   "source": [
    "board=[list(map(int, input().split())) for _ in range(7)]\n",
    "cnt=0\n",
    "for i in range(3):\n",
    "    for j in range(7):\n",
    "        tmp=board[j][i:i+5]\n",
    "        if tmp==tmp[::-1]:\n",
    "            cnt+=1\n",
    "        for k in range(2):\n",
    "            if board[i+k][j]!=board[i+5-k-1][j]:\n",
    "                break;\n",
    "        else:\n",
    "            cnt+=1\n",
    "        \n",
    "print(cnt)"
   ]
  }
 ],
 "metadata": {
  "kernelspec": {
   "display_name": "Python 3",
   "language": "python",
   "name": "python3"
  },
  "language_info": {
   "codemirror_mode": {
    "name": "ipython",
    "version": 3
   },
   "file_extension": ".py",
   "mimetype": "text/x-python",
   "name": "python",
   "nbconvert_exporter": "python",
   "pygments_lexer": "ipython3",
   "version": "3.7.4"
  }
 },
 "nbformat": 4,
 "nbformat_minor": 2
}
