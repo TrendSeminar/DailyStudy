{
 "cells": [
  {
   "cell_type": "markdown",
   "metadata": {},
   "source": [
    "#### 곳감(모래시계)\n",
    "#### 현수는 곳감을 만들기 위해 감을 깍아 마당에 말리고 있습니다. 현수의 마당은 N*N 격자판으\n",
    "#### 로 이루어져 있으며, 현수는 각 격자단위로 말리는 감의 수를 정합니다.\n",
    "#### 그런데 해의 위치에 따라 특정위치의 감은 잘 마르지 않습니다. 그래서 현수는 격자의 행을\n",
    "#### 기준으로 왼쪽, 또는 오른쪽으로 회전시켜 위치를 변경해 모든 감이 잘 마르게 합니다.\n",
    "#### 만약 회전명령 정보가 2 0 3이면 2번째 행을 왼쪽으로 3만큼 아래 그림처럼 회전시키는 명령\n",
    "#### 입니다.\n",
    "#### 1행 10 13 10 12 15\n",
    "#### 2행 12 39 30 23 11\n",
    "#### 3행 11 25 50 53 15\n",
    "#### 4행 19 27 29 37 27\n",
    "#### 5행 19 13 30 13 19\n",
    "#### \n",
    "#### 10 13 10 12 15\n",
    "#### 23 11 12 39 30\n",
    "#### 11 25 50 53 15\n",
    "#### 19 27 29 37 27\n",
    "#### 19 13 30 13 19\n",
    "#### 첫 번째 수는 행번호, 두 번째 수는 방향인데 0이면 왼쪽, 1이면 오른쪽이고, 세 번째 수는 회\n",
    "#### 전하는 격자의 수입니다.\n",
    "#### M개의 회전명령을 실행하고 난 후 아래와 같이 마당의 모래시계 모양의 영역에는 감 이 총 몇\n",
    "#### 개가 있는지 출력하는 프로그램을 작성하세요.\n",
    "#### 10 13 10 12 15\n",
    "#### 23 11 12 39 30\n",
    "#### 11 25 50 53 15\n",
    "#### 19 27 29 37 27\n",
    "#### 19 13 30 13 19\n",
    "#### ▣ 입력설명\n",
    "#### 첫 줄에 자연수 N(3<=N<=20) 이 주어며, N은 홀수입니다.\n",
    "#### 두 번째 줄부터 N줄에 걸쳐 각 줄에 N개의 자연수가 주어진다.\n",
    "#### 이 자연수는 각 격자안에 있는 감의 개수이며, 각 격자안의 감의 개수는 100을 넘지 않는다.\n",
    "#### 그 다음 줄에 회전명령의 개수인 M(1<=M<=10)이 주어지고, 그 다음 줄부터 M개의 회전명령\n",
    "#### 정보가 M줄에 걸쳐 주어집니다.\n",
    "#### \n",
    "#### ▣ 출력설명\n",
    "#### 총 감의 개수를 출력합니다.\n",
    "#### ▣ 입력예제 1\n",
    "#### 5\n",
    "#### 10 13 10 12 15\n",
    "#### 12 39 30 23 11\n",
    "#### 11 25 50 53 15\n",
    "#### 19 27 29 37 27\n",
    "#### 19 13 30 13 19\n",
    "#### 3\n",
    "#### 2 0 3\n",
    "#### 5 1 2\n",
    "#### 3 1 4\n",
    "#### ▣ 출력예제 1\n",
    "#### 362"
   ]
  },
  {
   "cell_type": "markdown",
   "metadata": {},
   "source": [
    "## 내 풀이"
   ]
  },
  {
   "cell_type": "code",
   "execution_count": 9,
   "metadata": {
    "scrolled": true
   },
   "outputs": [
    {
     "name": "stdout",
     "output_type": "stream",
     "text": [
      "5\n",
      "10 13 10 12 15\n",
      "12 39 30 23 11\n",
      "11 25 50 53 15\n",
      "19 27 29 37 27\n",
      "19 13 30 13 19\n",
      "3\n",
      "2 0 3\n",
      "5 1 2\n",
      "3 1 4\n"
     ]
    }
   ],
   "source": [
    "N = int(input())\n",
    "matrix = []\n",
    "for _ in range(N):\n",
    "    row = [int(x) for x in input().strip().split(' ')]\n",
    "    matrix.append(row)\n",
    "M = int(input())\n",
    "rotate = []\n",
    "for _ in range(M):\n",
    "    row = [int(x) for x in input().strip().split(' ')]\n",
    "    rotate.append(row)"
   ]
  },
  {
   "cell_type": "code",
   "execution_count": 95,
   "metadata": {},
   "outputs": [],
   "source": [
    "for r in rotate:\n",
    "    row = r[0]-1\n",
    "    way = r[1]\n",
    "    how = r[2]\n",
    "    if way ==1:\n",
    "        temp = []\n",
    "        temp.extend(matrix[row][N-how:])\n",
    "        temp.extend(matrix[row][:N-how])\n",
    "        matrix[row]=temp\n",
    "    else:\n",
    "        temp = []\n",
    "        temp.extend(matrix[row][how:])\n",
    "        temp.extend(matrix[row][:how-1])\n",
    "        matrix[row]=temp"
   ]
  },
  {
   "cell_type": "code",
   "execution_count": 97,
   "metadata": {},
   "outputs": [],
   "source": [
    "answer = []\n",
    "for row in range(N//2):\n",
    "    answer.extend(matrix[row][row:N-row])\n",
    "for row in range(N//2):\n",
    "    answer.extend(matrix[N-(row+1)][row:N-row])\n",
    "answer.append(matrix[N//2][N//2])"
   ]
  },
  {
   "cell_type": "code",
   "execution_count": 98,
   "metadata": {},
   "outputs": [
    {
     "name": "stdout",
     "output_type": "stream",
     "text": [
      "362\n"
     ]
    }
   ],
   "source": [
    "print(sum(answer))"
   ]
  },
  {
   "cell_type": "markdown",
   "metadata": {},
   "source": [
    "## 다른 사람 풀이"
   ]
  },
  {
   "cell_type": "code",
   "execution_count": 10,
   "metadata": {},
   "outputs": [],
   "source": [
    "for r in rotate:\n",
    "    row = r[0]-1\n",
    "    way = r[1]\n",
    "    how = r[2]\n",
    "    if way ==0:\n",
    "        for _ in range(how):\n",
    "            matrix[row].append(matrix[row].pop(0))\n",
    "    else:\n",
    "        for _ in range(how):\n",
    "            matrix[row].insert(0,matrix[row].pop())"
   ]
  },
  {
   "cell_type": "code",
   "execution_count": 11,
   "metadata": {},
   "outputs": [
    {
     "name": "stdout",
     "output_type": "stream",
     "text": [
      "362\n"
     ]
    }
   ],
   "source": [
    "answer = 0\n",
    "s = 0\n",
    "e = N-1\n",
    "for i in range(N):\n",
    "    for j in range(s,e+1):\n",
    "        answer += matrix[i][j]\n",
    "    if i < N//2:\n",
    "        s +=1\n",
    "        e -=1\n",
    "    else:\n",
    "        s -=1\n",
    "        e +=1\n",
    "print(answer)"
   ]
  }
 ],
 "metadata": {
  "kernelspec": {
   "display_name": "Python 3",
   "language": "python",
   "name": "python3"
  },
  "language_info": {
   "codemirror_mode": {
    "name": "ipython",
    "version": 3
   },
   "file_extension": ".py",
   "mimetype": "text/x-python",
   "name": "python",
   "nbconvert_exporter": "python",
   "pygments_lexer": "ipython3",
   "version": "3.7.4"
  }
 },
 "nbformat": 4,
 "nbformat_minor": 2
}
