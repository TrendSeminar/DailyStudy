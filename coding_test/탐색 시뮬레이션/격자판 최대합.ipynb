{
 "cells": [
  {
   "cell_type": "markdown",
   "metadata": {},
   "source": [
    "### 5*5 격자판에 아래롸 같이 숫자가 적혀있습니다.\n",
    "### 10 13 10 12 15\n",
    "### 12 39 30 23 11\n",
    "### 11 25 50 53 15\n",
    "### 19 27 29 37 27\n",
    "### 19 13 30 13 19\n",
    "### N*N의 격자판이 주어지면 각 행의 합, 각 열의 합, 두 대각선의 합 중 가 장 큰 합을 출력합\n",
    "### 니다.\n",
    "### ▣ 입력설명\n",
    "### 첫 줄에 자연수 N이 주어진다.(1<=N<=50)\n",
    "### 두 번째 줄부터 N줄에 걸쳐 각 줄에 N개의 자연수가 주어진다. 각 자연수는 100을 넘지 않는\n",
    "### 다.\n",
    "### ▣ 출력설명\n",
    "### 최대합을 출력합니다.\n",
    "### ▣ 입력예제 1\n",
    "### 5\n",
    "### 10 13 10 12 15\n",
    "### 12 39 30 23 11\n",
    "### 11 25 50 53 15\n",
    "### 19 27 29 37 27\n",
    "### 19 13 30 13 19\n",
    "### ▣ 출력예제 1\n",
    "### 155"
   ]
  },
  {
   "cell_type": "code",
   "execution_count": 31,
   "metadata": {},
   "outputs": [
    {
     "name": "stdout",
     "output_type": "stream",
     "text": [
      "10\n"
     ]
    }
   ],
   "source": [
    "N = int(input())"
   ]
  },
  {
   "cell_type": "code",
   "execution_count": 32,
   "metadata": {},
   "outputs": [
    {
     "name": "stdout",
     "output_type": "stream",
     "text": [
      "75 79 6 72 40 72 28 43 64 19\n",
      "97 71 12 48 64 95 64 40 38 24\n",
      "52 17 58 64 13 37 38 5 30 36\n",
      "43 30 15 8 13 21 81 29 79 33\n",
      "20 4 31 24 93 60 61 19 9 88\n",
      "12 33 30 4 38 62 98 34 65 33\n",
      "37 26 6 60 82 57 49 85 66 67\n",
      "93 4 29 67 65 96 5 27 39 87\n",
      "16 52 8 7 56 19 8 53 52 93\n",
      "87 55 58 84 61 92 3 74 66 34\n"
     ]
    }
   ],
   "source": [
    "matrix = []\n",
    "for _ in range(N):\n",
    "    row = [int(x) for x in input().split(' ')]\n",
    "    matrix.append(row)"
   ]
  },
  {
   "cell_type": "code",
   "execution_count": 33,
   "metadata": {},
   "outputs": [],
   "source": [
    "row_sum = []\n",
    "for row in matrix:\n",
    "    row_sum.append(sum(row))"
   ]
  },
  {
   "cell_type": "code",
   "execution_count": 34,
   "metadata": {},
   "outputs": [],
   "source": [
    "col_sum = []\n",
    "for c in range(N):\n",
    "    col = []\n",
    "    for row in matrix:\n",
    "        col.append(row[c])\n",
    "    col_sum.append(sum(col))"
   ]
  },
  {
   "cell_type": "code",
   "execution_count": 35,
   "metadata": {},
   "outputs": [],
   "source": [
    "dia_sum = []\n",
    "dia = []\n",
    "for c in range(N):\n",
    "    dia.append(matrix[c][c])\n",
    "dia_sum.append(sum(dia))"
   ]
  },
  {
   "cell_type": "code",
   "execution_count": 36,
   "metadata": {},
   "outputs": [],
   "source": [
    "dia = []\n",
    "for i in range(N):\n",
    "    dia.append(matrix[i][(N-1)-i])\n",
    "    dia_sum.append(sum(dia))"
   ]
  },
  {
   "cell_type": "code",
   "execution_count": 37,
   "metadata": {},
   "outputs": [
    {
     "name": "stdout",
     "output_type": "stream",
     "text": [
      "614\n"
     ]
    }
   ],
   "source": [
    "print(max([max(row_sum),max(col_sum),max(dia_sum)]))"
   ]
  }
 ],
 "metadata": {
  "kernelspec": {
   "display_name": "Python 3",
   "language": "python",
   "name": "python3"
  },
  "language_info": {
   "codemirror_mode": {
    "name": "ipython",
    "version": 3
   },
   "file_extension": ".py",
   "mimetype": "text/x-python",
   "name": "python",
   "nbconvert_exporter": "python",
   "pygments_lexer": "ipython3",
   "version": "3.7.4"
  }
 },
 "nbformat": 4,
 "nbformat_minor": 2
}
