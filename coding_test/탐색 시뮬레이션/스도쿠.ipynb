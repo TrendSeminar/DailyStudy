{
 "cells": [
  {
   "cell_type": "markdown",
   "metadata": {},
   "source": [
    "### 스도쿠는 매우 간단한 숫자 퍼즐이다. 9×9 크기의 보드가 있을 때, 각 행과 각 열, 그리고 9\n",
    "### 개의 3×3 크기의 보드에 1부터 9까지의 숫자가 중복 없이 나타나도록 보드를 채우면 된다.\n",
    "### 예를 들어 다음을 보자.\n",
    "### 1 4 3 6 2 8 5 7 9\n",
    "### 5 7 2 1 3 9 4 6 8\n",
    "### 9 8 6 7 5 4 2 3 1\n",
    "### 3 9 1 5 4 2 7 8 6\n",
    "### 4 6 8 9 1 7 3 5 2\n",
    "### 7 2 5 8 6 3 9 1 4\n",
    "### 2 3 7 4 8 1 6 9 5\n",
    "### 6 1 9 2 7 5 8 4 3\n",
    "### 8 5 4 3 9 6 1 2 7\n",
    "###  위 그림은 스도쿠를 정확하게 푼 경우이다. 각 행에 1부터 9까지의 숫자가 중복 없이 나오\n",
    "### 고, 각 열에 1부터 9까지의 숫자가 중복 없이 나오고, 각 3×3짜리 사각형(9개이며, 위에서 색\n",
    "### 깔로 표시되었다)에 1부터 9까지의 숫자가 중복 없이 나오기 때문이다.\n",
    "### 완성된 9×9 크기의 수도쿠가 주어지면 정확하게 풀었으면 “YES\", 잘 못 풀었으면 ”NO\"를 출\n",
    "### 력하는 프로그램을 작성하세요.\n",
    "### ▣ 입력설명\n",
    "### 첫 번째 줄에 완성된 9×9 스도쿠가 주어집니다.\n",
    "### ▣ 출력설명\n",
    "### 첫째 줄에 “YES\" 또는 ”NO\"를 출력하세요.\n",
    "\n",
    "### ▣ 입력예제 1\n",
    "### 1 4 3 6 2 8 5 7 9\n",
    "### 5 7 2 1 3 9 4 6 8\n",
    "### 9 8 6 7 5 4 2 3 1\n",
    "### 3 9 1 5 4 2 7 8 6\n",
    "### 4 6 8 9 1 7 3 5 2\n",
    "### 7 2 5 8 6 3 9 1 4\n",
    "### 2 3 7 4 8 1 6 9 5\n",
    "### 6 1 9 2 7 5 8 4 3\n",
    "### 8 5 4 3 9 6 1 2 7\n",
    "### ▣ 출력예제 1\n",
    "### YES"
   ]
  },
  {
   "cell_type": "code",
   "execution_count": 1,
   "metadata": {
    "scrolled": true
   },
   "outputs": [
    {
     "name": "stdout",
     "output_type": "stream",
     "text": [
      "1 4 3 6 2 8 5 7 9\n",
      "5 7 2 1 3 9 4 6 8\n",
      "9 8 6 7 5 4 2 3 1\n",
      "3 9 1 5 4 2 7 8 6\n",
      "4 6 8 9 1 7 3 5 2\n",
      "7 2 5 8 6 3 9 1 4\n",
      "2 3 7 4 8 1 6 9 5\n",
      "6 1 9 2 7 5 8 4 3\n",
      "8 5 4 3 9 6 1 2 7\n"
     ]
    }
   ],
   "source": [
    "matrix = []\n",
    "for _ in range(9):\n",
    "    row = [int(x) for x in input().strip().split(' ')]\n",
    "    matrix.append(row)"
   ]
  },
  {
   "cell_type": "code",
   "execution_count": 11,
   "metadata": {},
   "outputs": [],
   "source": [
    "import numpy as np"
   ]
  },
  {
   "cell_type": "code",
   "execution_count": 21,
   "metadata": {},
   "outputs": [
    {
     "data": {
      "text/plain": [
       "{1, 2, 3, 4, 5, 6, 7, 8, 9}"
      ]
     },
     "execution_count": 21,
     "metadata": {},
     "output_type": "execute_result"
    }
   ],
   "source": [
    "set(np.array(matrix)[0:1][0])"
   ]
  },
  {
   "cell_type": "code",
   "execution_count": 31,
   "metadata": {},
   "outputs": [],
   "source": [
    "def check(matrix):\n",
    "    for i in range(9):\n",
    "        ch1 = [0]*10\n",
    "        ch2 = [0]*10\n",
    "        for j in range(9):\n",
    "            ch1[matrix[i][j]] = 1\n",
    "            ch2[matrix[j][i]]= 1\n",
    "        if sum(ch1) != 9 or sum(ch2) != 9:\n",
    "            return False\n",
    "        \n",
    "    for i in range(3):\n",
    "        for j in range(3):\n",
    "            ch3 = [0]*10\n",
    "            for s in range(3):\n",
    "                for t in range(3):\n",
    "                    ch3[matrix[3*i+s][3*j+t]] = 1\n",
    "            if sum(ch3) != 9:\n",
    "                return False\n",
    "    \n",
    "    return True"
   ]
  },
  {
   "cell_type": "code",
   "execution_count": 32,
   "metadata": {},
   "outputs": [
    {
     "name": "stdout",
     "output_type": "stream",
     "text": [
      "YES\n"
     ]
    }
   ],
   "source": [
    "if check(matrix):\n",
    "    print('YES')\n",
    "else:\n",
    "    print('NO')"
   ]
  }
 ],
 "metadata": {
  "kernelspec": {
   "display_name": "Python 3",
   "language": "python",
   "name": "python3"
  },
  "language_info": {
   "codemirror_mode": {
    "name": "ipython",
    "version": 3
   },
   "file_extension": ".py",
   "mimetype": "text/x-python",
   "name": "python",
   "nbconvert_exporter": "python",
   "pygments_lexer": "ipython3",
   "version": "3.7.4"
  }
 },
 "nbformat": 4,
 "nbformat_minor": 2
}
