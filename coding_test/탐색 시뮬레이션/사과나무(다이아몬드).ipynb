{
 "cells": [
  {
   "cell_type": "markdown",
   "metadata": {},
   "source": [
    "#### 현수의 농장은 N*N 격자판으로 이루어져 있으며, 각 격자안에는 한 그루의 사과나무가 심어저\n",
    "#### 있다. N의 크기는 항상 홀수이다. 가을이 되어 사과를 수확해야 하는데 현수는 격자판안의 사\n",
    "#### 과를 수확할 때 다이아몬드 모양의 격자판만 수확하고 나머지 격자안의 사과는 새들을 위해서\n",
    "#### 남겨놓는다.\n",
    "#### 만약 N이 5이면 아래 그림과 같이 진한 부분의 사과를 수확한다.\n",
    "#### 10 13 10 12 15\n",
    "#### 12 39 30 23 11\n",
    "#### 11 25 50 53 15\n",
    "#### 19 27 29 37 27\n",
    "#### 19 13 30 13 19\n",
    "#### 현수과 수확하는 사과의 총 개수를 출력하세요.\n",
    "#### ▣ 입력설명\n",
    "#### 첫 줄에 자연수 N(홀수)이 주어진다.(3<=N<=20)\n",
    "#### 두 번째 줄부터 N줄에 걸쳐 각 줄에 N개의 자연수가 주어진다.\n",
    "#### 이 자연수는 각 격자안에 있는 사과나무에 열린 사과의 개수이다.\n",
    "#### 각 격자안의 사과의 개수는 100을 넘지 않는다.\n",
    "#### ▣ 출력설명\n",
    "#### 수확한 사과의 총 개수를 출력합니다.\n",
    "#### ▣ 입력예제 1\n",
    "#### 5\n",
    "#### 10 13 10 12 15\n",
    "#### 12 39 30 23 11\n",
    "#### 11 25 50 53 15\n",
    "#### 19 27 29 37 27\n",
    "#### 19 13 30 13 19\n",
    "#### ▣ 출력예제 1\n",
    "#### 379"
   ]
  },
  {
   "cell_type": "code",
   "execution_count": 1,
   "metadata": {},
   "outputs": [
    {
     "name": "stdout",
     "output_type": "stream",
     "text": [
      "5\n"
     ]
    }
   ],
   "source": [
    "N = int(input())"
   ]
  },
  {
   "cell_type": "code",
   "execution_count": 2,
   "metadata": {},
   "outputs": [
    {
     "name": "stdout",
     "output_type": "stream",
     "text": [
      "10 13 10 12 15\n",
      "12 39 30 23 11\n",
      "11 25 50 53 15\n",
      "19 27 29 37 27\n",
      "19 13 30 13 19\n"
     ]
    }
   ],
   "source": [
    "matrix = []\n",
    "for _ in range(N):\n",
    "    row = [int(x) for x in input().strip().split(' ')]\n",
    "    matrix.append(row)"
   ]
  },
  {
   "cell_type": "code",
   "execution_count": 31,
   "metadata": {},
   "outputs": [],
   "source": [
    "diamond = []\n",
    "for row in range(N//2):    \n",
    "    diamond.extend(matrix[row][N//2-row:N//2+row+1])\n",
    "for row in range(N//2):    \n",
    "    diamond.extend(matrix[N-(row+1)][N//2-row:N//2+row+1])    \n",
    "diamond.extend(matrix[N//2])"
   ]
  },
  {
   "cell_type": "code",
   "execution_count": 33,
   "metadata": {},
   "outputs": [
    {
     "name": "stdout",
     "output_type": "stream",
     "text": [
      "379\n"
     ]
    }
   ],
   "source": [
    "print(sum(diamond))"
   ]
  }
 ],
 "metadata": {
  "kernelspec": {
   "display_name": "Python 3",
   "language": "python",
   "name": "python3"
  },
  "language_info": {
   "codemirror_mode": {
    "name": "ipython",
    "version": 3
   },
   "file_extension": ".py",
   "mimetype": "text/x-python",
   "name": "python",
   "nbconvert_exporter": "python",
   "pygments_lexer": "ipython3",
   "version": "3.7.4"
  }
 },
 "nbformat": 4,
 "nbformat_minor": 2
}
