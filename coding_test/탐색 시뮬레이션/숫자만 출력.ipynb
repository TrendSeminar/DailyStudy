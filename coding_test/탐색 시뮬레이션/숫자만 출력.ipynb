{
 "cells": [
  {
   "cell_type": "markdown",
   "metadata": {},
   "source": [
    "### 숫자만 추출\n",
    "### 문자와 숫자가 섞여있는 문자열이 주어지면 그 중 숫자만 추출하여 그 순서대로 자연수를 만\n",
    "### 듭니다. 만들어진 자연수와 그 자연수의 약수 개수를 출력합니다.\n",
    "### 만약 “t0e0a1c2h0er”에서 숫자만 추출하면 0, 0, 1, 2, 0이고 이것을 자연수를 만들면 120이\n",
    "### 됩니다. 즉 첫 자리 0은 자연수화 할 때 무시합니다. 출력은 120를 출력하고, 다음 줄에 120\n",
    "### 의 약수의 개수를 출력하면 됩니다.\n",
    "### 추출하여 만들어지는 자연수는 100,000,000을 넘지 않습니다.\n",
    "### ▣ 입력설명\n",
    "### 첫 줄에 숫자가 썩인 문자열이 주어집니다. 문자열의 길이는 50을 넘지 않습니다.\n",
    "### ▣ 출력설명\n",
    "### 첫 줄에 자연수를 출력하고, 두 번째 줄에 약수의 개수를 출력합니다.\n",
    "### ▣ 입력예제 1\n",
    "### g0en2Ts8eSoft\n",
    "### ▣ 출력예제 1\n",
    "### 28\n",
    "### 6"
   ]
  },
  {
   "cell_type": "code",
   "execution_count": 1,
   "metadata": {},
   "outputs": [
    {
     "name": "stdout",
     "output_type": "stream",
     "text": [
      "g0en2Ts8eSoft\n"
     ]
    }
   ],
   "source": [
    "a = input()"
   ]
  },
  {
   "cell_type": "code",
   "execution_count": 4,
   "metadata": {},
   "outputs": [],
   "source": [
    "import string\n",
    "temp = ''\n",
    "for s in a:\n",
    "    if s in string.digits:\n",
    "        temp += s\n",
    "mid = int(temp)"
   ]
  },
  {
   "cell_type": "code",
   "execution_count": 9,
   "metadata": {},
   "outputs": [],
   "source": [
    "answer = 0\n",
    "for i in range(1,mid//2+1):\n",
    "    if mid % i ==0:\n",
    "        answer +=1"
   ]
  },
  {
   "cell_type": "code",
   "execution_count": 11,
   "metadata": {},
   "outputs": [
    {
     "name": "stdout",
     "output_type": "stream",
     "text": [
      "28\n",
      "6\n"
     ]
    }
   ],
   "source": [
    "print(mid)\n",
    "print(answer+1)"
   ]
  }
 ],
 "metadata": {
  "kernelspec": {
   "display_name": "Python 3",
   "language": "python",
   "name": "python3"
  },
  "language_info": {
   "codemirror_mode": {
    "name": "ipython",
    "version": 3
   },
   "file_extension": ".py",
   "mimetype": "text/x-python",
   "name": "python",
   "nbconvert_exporter": "python",
   "pygments_lexer": "ipython3",
   "version": "3.7.4"
  }
 },
 "nbformat": 4,
 "nbformat_minor": 2
}
