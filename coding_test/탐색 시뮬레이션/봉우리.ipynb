{
 "cells": [
  {
   "cell_type": "markdown",
   "metadata": {},
   "source": [
    "### 지도 정보가 N*N 격자판에 주어집니다. 각 격자에는 그 지역의 높이가 쓰여있습니다. 각 격자\n",
    "### 판의 숫자 중 자신의 상하좌우 숫자보다 큰 숫자는 봉우리 지역입니다. 봉우리 지역이 몇 개\n",
    "### 있는 지 알아내는 프로그램을 작성하세요.\n",
    "### 격자의 가장자리는 0으로 초기화 되었다고 가정한다.\n",
    "### 만약 N=5 이고, 격자판의 숫자가 다음과 같다면 봉우리의 개수는 10개입니다.\n",
    "### 0 0 0 0 0 0 0\n",
    "### 0 5 3 7 2 3 0\n",
    "### 0 3 7 1 6 1 0\n",
    "### 0 7 2 5 3 4 0\n",
    "### 0 4 3 6 4 1 0\n",
    "### 0 8 7 3 5 2 0\n",
    "### 0 0 0 0 0 0 0\n",
    "### ▣ 입력설명\n",
    "### 첫 줄에 자연수 N이 주어진다.(1<=N<=50)\n",
    "### 두 번째 줄부터 N줄에 걸쳐 각 줄에 N개의 자연수가 주어진다. 각 자연수는 100을 넘지 않는\n",
    "### 다.\n",
    "### ▣ 출력설명\n",
    "### 봉우리의 개수를 출력하세요.\n",
    "### ▣ 입력예제 1\n",
    "### 5\n",
    "### 5 3 7 2 3\n",
    "### 3 7 1 6 1\n",
    "### 7 2 5 3 4\n",
    "### 4 3 6 4 1\n",
    "### 8 7 3 5 2\n",
    "### ▣ 출력예제 1\n",
    "### 10"
   ]
  },
  {
   "cell_type": "code",
   "execution_count": 1,
   "metadata": {},
   "outputs": [
    {
     "name": "stdout",
     "output_type": "stream",
     "text": [
      "5\n"
     ]
    }
   ],
   "source": [
    "N = int(input())"
   ]
  },
  {
   "cell_type": "code",
   "execution_count": 2,
   "metadata": {},
   "outputs": [
    {
     "name": "stdout",
     "output_type": "stream",
     "text": [
      "5 3 7 2 3\n",
      "3 7 1 6 1\n",
      "7 2 5 3 4\n",
      "4 3 6 4 1\n",
      "8 7 3 5 2\n"
     ]
    }
   ],
   "source": [
    "matrix = []\n",
    "for _ in range(N):\n",
    "    row = [int(x) for x in input().strip().split(' ')]\n",
    "    matrix.append(row)"
   ]
  },
  {
   "cell_type": "code",
   "execution_count": 6,
   "metadata": {},
   "outputs": [],
   "source": [
    "matrix.insert(0,[0]*N)\n",
    "matrix.append([0]*N)"
   ]
  },
  {
   "cell_type": "code",
   "execution_count": 8,
   "metadata": {},
   "outputs": [],
   "source": [
    "for x in matrix:\n",
    "    x.insert(0,0)\n",
    "    x.append(0)"
   ]
  },
  {
   "cell_type": "code",
   "execution_count": 11,
   "metadata": {},
   "outputs": [],
   "source": [
    "cnt = 0\n",
    "for r in range(1,N+1):\n",
    "    for c in range(1,N+1):\n",
    "        left = matrix[r][c-1]\n",
    "        right = matrix[r][c+1]\n",
    "        down = matrix[r+1][c]\n",
    "        up = matrix[r-1][c]\n",
    "        now = matrix[r][c]\n",
    "        if now > max([left,right,down,up]):\n",
    "            cnt+=1"
   ]
  },
  {
   "cell_type": "code",
   "execution_count": 13,
   "metadata": {},
   "outputs": [
    {
     "name": "stdout",
     "output_type": "stream",
     "text": [
      "10\n"
     ]
    }
   ],
   "source": [
    "print(cnt)"
   ]
  }
 ],
 "metadata": {
  "kernelspec": {
   "display_name": "Python 3",
   "language": "python",
   "name": "python3"
  },
  "language_info": {
   "codemirror_mode": {
    "name": "ipython",
    "version": 3
   },
   "file_extension": ".py",
   "mimetype": "text/x-python",
   "name": "python",
   "nbconvert_exporter": "python",
   "pygments_lexer": "ipython3",
   "version": "3.7.4"
  }
 },
 "nbformat": 4,
 "nbformat_minor": 2
}
