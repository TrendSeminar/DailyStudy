{
 "cells": [
  {
   "cell_type": "markdown",
   "metadata": {},
   "source": [
    "### 두 리스트 합치기\n",
    "### 오름차순으로 정렬이 된 두 리스트가 주어지면 두 리스트를 오름차순으로 합쳐 출력하는 프로\n",
    "### 그램을 작성하세요.\n",
    "### ▣ 입력설명\n",
    "### 첫 번째 줄에 첫 번째 리스트의 크기 N(1<=N<=100)이 주어집니다.\n",
    "### 두 번째 줄에 N개의 리스트 원소가 오름차순으로 주어집니다.\n",
    "### 세 번째 줄에 두 번째 리스트의 크기 M(1<=M<=100)이 주어집니다.\n",
    "### 네 번째 줄에 M개의 리스트 원소가 오름차순으로 주어집니다.\n",
    "### 각 리스트의 원소는 int형 변수의 크기를 넘지 않습니다.\n",
    "### ▣ 출력설명\n",
    "### 오름차순으로 정렬된 리스트를 출력합니다.\n",
    "### ▣ 입력예제 1\n",
    "### 3\n",
    "### 1 3 5\n",
    "### 5\n",
    "### 2 3 6 7 9\n",
    "### ▣ 출력예제 1\n",
    "### 1 2 3 3 5 6 7 9"
   ]
  },
  {
   "cell_type": "code",
   "execution_count": 4,
   "metadata": {},
   "outputs": [
    {
     "name": "stdout",
     "output_type": "stream",
     "text": [
      "3\n",
      "1 3 5\n",
      "5\n",
      "2 3 6 7 9\n"
     ]
    }
   ],
   "source": [
    "N = int(input())\n",
    "list1 = [int(x) for x in input().strip().split(' ')]\n",
    "M = int(input())\n",
    "list2 = [int(x) for x in input().strip().split(' ')]"
   ]
  },
  {
   "cell_type": "code",
   "execution_count": 6,
   "metadata": {},
   "outputs": [],
   "source": [
    "answer =sorted(list1+list2)"
   ]
  },
  {
   "cell_type": "code",
   "execution_count": 7,
   "metadata": {},
   "outputs": [
    {
     "name": "stdout",
     "output_type": "stream",
     "text": [
      "1 2 3 3 5 6 7 9 "
     ]
    }
   ],
   "source": [
    "for a in answer:\n",
    "    print(a, end = ' ')"
   ]
  },
  {
   "cell_type": "code",
   "execution_count": null,
   "metadata": {},
   "outputs": [],
   "source": []
  }
 ],
 "metadata": {
  "kernelspec": {
   "display_name": "Python 3",
   "language": "python",
   "name": "python3"
  },
  "language_info": {
   "codemirror_mode": {
    "name": "ipython",
    "version": 3
   },
   "file_extension": ".py",
   "mimetype": "text/x-python",
   "name": "python",
   "nbconvert_exporter": "python",
   "pygments_lexer": "ipython3",
   "version": "3.7.4"
  }
 },
 "nbformat": 4,
 "nbformat_minor": 2
}
