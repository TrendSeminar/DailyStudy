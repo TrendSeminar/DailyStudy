{
 "cells": [
  {
   "cell_type": "markdown",
   "metadata": {},
   "source": [
    "### 회문 문자열 검사\n",
    "### N개의 문자열 데이터를 입력받아 앞에서 읽을 때나 뒤에서 읽을 때나 같은 경우(회문 문자열)\n",
    "### 이면 YES를 출력하고 회문 문자열이 아니면 NO를 출력하는 프로그램을 작성한다.\n",
    "### 단 회문을 검사할 때 대소문자를 구분하지 않습니다.\n",
    "### ▣ 입력설명\n",
    "### 첫 줄에 정수 N(1<=N<=20)이 주어지고, 그 다음 줄부터 N개의 단어가 입력된다.\n",
    "### 각 단어의 길이는 100을 넘지 않는다.\n",
    "### ▣ 출력설명\n",
    "### 각 줄에 해당 문자열의 결과를 YES 또는 NO로 출력한다.\n",
    "### ▣ 입력예제 1\n",
    "### 5\n",
    "### level\n",
    "### moon\n",
    "### abcba\n",
    "### soon\n",
    "### gooG\n",
    "### ▣ 출력예제 1\n",
    "### #1 YES\n",
    "### #2 NO\n",
    "### #3 YES\n",
    "### #4 NO\n",
    "### #5 YES"
   ]
  },
  {
   "cell_type": "code",
   "execution_count": 11,
   "metadata": {},
   "outputs": [
    {
     "name": "stdout",
     "output_type": "stream",
     "text": [
      "10\n"
     ]
    }
   ],
   "source": [
    "N = int(input())"
   ]
  },
  {
   "cell_type": "code",
   "execution_count": null,
   "metadata": {},
   "outputs": [],
   "source": [
    "skgjkjdkjgkksjgk\n",
    "sssssssssssssssksssssssssssssss\n",
    "osdddddddddddddddddddddddso\n",
    "sksdddddddddddddddddddddddddddddddddddddddkss\n",
    "skskskuuuuuuuuuuuuuuuuuuUuuuuuuuuuuuuuuuuuuuuuuuuuuuuuuuuksksks\n",
    "stts\n",
    "moon\n",
    "abcba\n",
    "yes\n",
    "eyE"
   ]
  },
  {
   "cell_type": "code",
   "execution_count": 25,
   "metadata": {},
   "outputs": [],
   "source": [
    "def yes_or_no(word):\n",
    "    for j in range(len(word)//2):\n",
    "        if word[j] == word[-(j+1)]:\n",
    "            continue\n",
    "        else:\n",
    "            return 'NO'\n",
    "    else:\n",
    "        return 'YES'"
   ]
  },
  {
   "cell_type": "code",
   "execution_count": null,
   "metadata": {},
   "outputs": [
    {
     "name": "stdout",
     "output_type": "stream",
     "text": [
      "skgjkjdkjgkksjgk\n",
      "#1 NO\n",
      "sssssssssssssssksssssssssssssss\n",
      "#2 YES\n",
      "osdddddddddddddddddddddddso\n",
      "#3 YES\n",
      "sksdddddddddddddddddddddddddddddddddddddddkss\n",
      "#4 NO\n"
     ]
    }
   ],
   "source": [
    "for i in range(N):\n",
    "    word = input().strip()\n",
    "    print('#%d %s' %(i+1,yes_or_no(word.lower())))"
   ]
  },
  {
   "cell_type": "code",
   "execution_count": null,
   "metadata": {},
   "outputs": [],
   "source": []
  }
 ],
 "metadata": {
  "kernelspec": {
   "display_name": "Python 3",
   "language": "python",
   "name": "python3"
  },
  "language_info": {
   "codemirror_mode": {
    "name": "ipython",
    "version": 3
   },
   "file_extension": ".py",
   "mimetype": "text/x-python",
   "name": "python",
   "nbconvert_exporter": "python",
   "pygments_lexer": "ipython3",
   "version": "3.7.4"
  }
 },
 "nbformat": 4,
 "nbformat_minor": 2
}
