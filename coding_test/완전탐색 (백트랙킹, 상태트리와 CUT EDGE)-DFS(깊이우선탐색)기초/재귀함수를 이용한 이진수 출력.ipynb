{
 "cells": [
  {
   "cell_type": "markdown",
   "metadata": {},
   "source": [
    "#### 재귀함수를 이용한 이진수 출력\n",
    "#### 10진수 N이 입력되면 2진수로 변환하여 출력하는 프로그램을 작성하세요. 단 재귀함수를 이용\n",
    "#### 해서 출력해야 합니다.\n",
    "#### ▣ 입력설명\n",
    "#### 첫 번째 줄에 10진수 N(1<=N<=1,000)이 주어집니다.\n",
    "#### ▣ 출력설명\n",
    "#### 첫 번째 줄에 이진수를 출력하세요.\n",
    "#### ▣ 입력예제 1\n",
    "#### 11\n",
    "#### ▣ 출력예제 1\n",
    "#### 1011"
   ]
  },
  {
   "cell_type": "code",
   "execution_count": 1,
   "metadata": {},
   "outputs": [],
   "source": [
    "def DFS(x):\n",
    "    if x==0:\n",
    "        return\n",
    "    else:\n",
    "        DFS(x//2)\n",
    "        print(x%2, end= '')\n",
    "    "
   ]
  },
  {
   "cell_type": "code",
   "execution_count": 2,
   "metadata": {
    "scrolled": true
   },
   "outputs": [
    {
     "name": "stdout",
     "output_type": "stream",
     "text": [
      "11\n",
      "1011None\n"
     ]
    }
   ],
   "source": [
    "n= int(input())\n",
    "print(DFS(n))"
   ]
  }
 ],
 "metadata": {
  "kernelspec": {
   "display_name": "Python 3",
   "language": "python",
   "name": "python3"
  },
  "language_info": {
   "codemirror_mode": {
    "name": "ipython",
    "version": 3
   },
   "file_extension": ".py",
   "mimetype": "text/x-python",
   "name": "python",
   "nbconvert_exporter": "python",
   "pygments_lexer": "ipython3",
   "version": "3.7.4"
  }
 },
 "nbformat": 4,
 "nbformat_minor": 2
}
