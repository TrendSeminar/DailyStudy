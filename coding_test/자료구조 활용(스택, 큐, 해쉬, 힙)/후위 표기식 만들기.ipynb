{
 "cells": [
  {
   "cell_type": "markdown",
   "metadata": {},
   "source": [
    "#### 후위표기식 만들기\n",
    "#### 중위표기식이 입력되면 후위표기식으로 변환하는 프로그램을 작성하세요.\n",
    "#### 중위표기식은 우리가 흔히 쓰은 표현식입니다. 즉 3+5 와 같이 연산자가 피연산자 사이에 있\n",
    "#### 으면 중위표기식입니다.\n",
    "#### 후위표기식은 35+ 와 같이 연산자가 피연산자 뒤에 있는 표기식입니다.\n",
    "#### 예를 들어 중위표기식이 3+5*2 를 후위표기식으로 표현하면 352*+ 로 표현됩니다.\n",
    "#### 만약 다음과 같이 연산 최우선인 괄호가 표현된 식이라면\n",
    "#### (3+5)*2 이면 35+2* 로 바꾸어야 합니다.\n",
    "#### ※후위 표기식이 이해가 안되면 구글링으로 공부해보는 것도 좋습니다.\n",
    "#### ▣ 입력설명\n",
    "#### 첫 줄에 중위표기식이 주어진다. 길이는 100을 넘지 않는다.\n",
    "#### 식은 1~9의 숫자와 +, -, *, /, (, ) 연산자로만 이루어진다.\n",
    "#### ▣ 출력설명\n",
    "#### 후위표기식을 출력한다.\n",
    "#### ▣ 입력예제 1\n",
    "#### 3+5*2/(7-2)\n",
    "#### ▣ 출력예제 1\n",
    "#### 352*72-/+\n",
    "#### ▣ 입력예제 2\n",
    "#### 3*(5+2)-9\n",
    "#### ▣ 출력예제 2\n",
    "#### 352+*9-"
   ]
  },
  {
   "cell_type": "code",
   "execution_count": 1,
   "metadata": {},
   "outputs": [
    {
     "name": "stdout",
     "output_type": "stream",
     "text": [
      "3+5*2/(7-2)\n"
     ]
    }
   ],
   "source": [
    "a = input()"
   ]
  },
  {
   "cell_type": "code",
   "execution_count": 12,
   "metadata": {},
   "outputs": [],
   "source": [
    "stack = []\n",
    "res = ''\n",
    "for i in range(len(a)):\n",
    "    if a[i].isnumeric():\n",
    "        res += a[i]\n",
    "    else:\n",
    "        if a[i] =='(':\n",
    "            stack.append(a[i])\n",
    "        elif a[i] in ['*','/']:\n",
    "            while stack and (stack[-1] == '*' or stack[-1] == '/'):\n",
    "                res += stack.pop()\n",
    "            stack.append(a[i])\n",
    "        elif a[i] =='+' or a[i] == '-':\n",
    "            while stack and stack[-1] != '(':\n",
    "                res = stack.pop()\n",
    "            stack.append(a[i])\n",
    "        elif a[i]== ')':\n",
    "            while stack and stack[-1] !='(':\n",
    "                res += stack.pop()\n",
    "            stack.pop()\n",
    "while stack:\n",
    "    res += stack.pop()"
   ]
  },
  {
   "cell_type": "code",
   "execution_count": 13,
   "metadata": {},
   "outputs": [
    {
     "name": "stdout",
     "output_type": "stream",
     "text": [
      "352*72-/+\n"
     ]
    }
   ],
   "source": [
    "print(res)"
   ]
  }
 ],
 "metadata": {
  "kernelspec": {
   "display_name": "Python 3",
   "language": "python",
   "name": "python3"
  },
  "language_info": {
   "codemirror_mode": {
    "name": "ipython",
    "version": 3
   },
   "file_extension": ".py",
   "mimetype": "text/x-python",
   "name": "python",
   "nbconvert_exporter": "python",
   "pygments_lexer": "ipython3",
   "version": "3.7.4"
  }
 },
 "nbformat": 4,
 "nbformat_minor": 2
}
