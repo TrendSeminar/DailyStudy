{
 "cells": [
  {
   "cell_type": "markdown",
   "metadata": {},
   "source": [
    "#### 후위식 연산\n",
    "#### 후위연산식이 주어지면 연산한 결과를 출력하는 프로그램을 작성하세요.\n",
    "#### 만약 3*(5+2)-9 을 후위연산식으로 표현하면 352+*9- 로 표현되며 그 결과는 21입니다.\n",
    "#### ▣ 입력설명\n",
    "#### 첫 줄에 후위연산식이 주어집니다. 연산식의 길이는 50을 넘지 않습니다.\n",
    "#### 식은 1~9의 숫자와 +, -, *, /, (, ) 연산자로만 이루어진다.\n",
    "#### ▣ 출력설명\n",
    "#### 연산한 결과를 출력합니다.\n",
    "#### ▣ 입력예제 1\n",
    "#### 352+*9-\n",
    "#### ▣ 출력예제 1\n",
    "#### 12"
   ]
  },
  {
   "cell_type": "code",
   "execution_count": 1,
   "metadata": {},
   "outputs": [
    {
     "name": "stdout",
     "output_type": "stream",
     "text": [
      "352+*9-\n"
     ]
    }
   ],
   "source": [
    "a = input()"
   ]
  },
  {
   "cell_type": "code",
   "execution_count": 24,
   "metadata": {},
   "outputs": [],
   "source": [
    "stack=[]\n",
    "for x in a:\n",
    "    if x.isdecimal():\n",
    "        stack.append(int(x))\n",
    "    else:\n",
    "        if x=='+':\n",
    "            n1=stack.pop()\n",
    "            n2=stack.pop()\n",
    "            stack.append(n2+n1)\n",
    "        elif x=='-':\n",
    "            n1=stack.pop()\n",
    "            n2=stack.pop()\n",
    "            stack.append(n2-n1)\n",
    "        elif x=='*':\n",
    "            n1=stack.pop()\n",
    "            n2=stack.pop()\n",
    "            stack.append(n2*n1)\n",
    "        elif x=='/':\n",
    "            n1=stack.pop()\n",
    "            n2=stack.pop()\n",
    "            stack.append(n2/n1)\n"
   ]
  },
  {
   "cell_type": "code",
   "execution_count": 30,
   "metadata": {},
   "outputs": [
    {
     "name": "stdout",
     "output_type": "stream",
     "text": [
      "12\n"
     ]
    }
   ],
   "source": [
    "print(stack[0])"
   ]
  }
 ],
 "metadata": {
  "kernelspec": {
   "display_name": "Python 3",
   "language": "python",
   "name": "python3"
  },
  "language_info": {
   "codemirror_mode": {
    "name": "ipython",
    "version": 3
   },
   "file_extension": ".py",
   "mimetype": "text/x-python",
   "name": "python",
   "nbconvert_exporter": "python",
   "pygments_lexer": "ipython3",
   "version": "3.7.4"
  }
 },
 "nbformat": 4,
 "nbformat_minor": 2
}
