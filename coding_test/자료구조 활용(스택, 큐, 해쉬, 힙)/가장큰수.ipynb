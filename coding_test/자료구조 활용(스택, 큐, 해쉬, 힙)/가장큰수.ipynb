{
 "cells": [
  {
   "cell_type": "markdown",
   "metadata": {},
   "source": [
    "#### 가장 큰 수\n",
    "#### 선생님은 현수에게 숫자 하나를 주고, 해당 숫자의 자릿수들 중 m개의 숫자를 제거하\n",
    "#### 여 가장 큰 수를 만들라고 했습니다. 여러분이 현수를 도와주세요.(단 숫자의 순서는\n",
    "#### 유지해야 합니다)\n",
    "#### 만약 5276823 이 주어지고 3개의 자릿수를 제거한다면\n",
    "#### 7823이 가장 큰 숫자가 됩니다.\n",
    "#### ▣ 입력설명\n",
    "#### 첫째 줄에 숫자(길이는 1000을 넘지 않습니다)와 제가해야할 자릿수의 개수가 주어집니다.\n",
    "#### ▣ 출력설명\n",
    "#### 가장 큰 수를 출력합니다.\n",
    "#### ▣ 입력예제 1\n",
    "#### 5276823 3\n",
    "#### ▣ 출력예제 1\n",
    "#### 7823\n",
    "#### ▣ 입력예제 2\n",
    "#### 9977252641 5\n",
    "#### ▣ 출력예제 2\n",
    "#### 99776"
   ]
  },
  {
   "cell_type": "code",
   "execution_count": 11,
   "metadata": {},
   "outputs": [
    {
     "name": "stdout",
     "output_type": "stream",
     "text": [
      "5276823 3\n"
     ]
    }
   ],
   "source": [
    "a,n = map(int,input().split(' '))"
   ]
  },
  {
   "cell_type": "code",
   "execution_count": 12,
   "metadata": {},
   "outputs": [],
   "source": [
    "a = list(map(int,str(a)))"
   ]
  },
  {
   "cell_type": "code",
   "execution_count": 16,
   "metadata": {},
   "outputs": [],
   "source": [
    "cnt = 0\n",
    "Min = 0\n",
    "stack = []\n",
    "for i in range(len(a)):\n",
    "    while stack and n > 0 and a[i] > stack[-1]:\n",
    "        stack.pop()\n",
    "        n -=1\n",
    "    stack.append(a[i])\n",
    "    \n",
    "if n > 0:\n",
    "    stack = stack[:-n]        \n",
    "    "
   ]
  },
  {
   "cell_type": "code",
   "execution_count": 19,
   "metadata": {},
   "outputs": [
    {
     "name": "stdout",
     "output_type": "stream",
     "text": [
      "7823\n"
     ]
    }
   ],
   "source": [
    "print(''.join(map(str,stack)))"
   ]
  }
 ],
 "metadata": {
  "kernelspec": {
   "display_name": "Python 3",
   "language": "python",
   "name": "python3"
  },
  "language_info": {
   "codemirror_mode": {
    "name": "ipython",
    "version": 3
   },
   "file_extension": ".py",
   "mimetype": "text/x-python",
   "name": "python",
   "nbconvert_exporter": "python",
   "pygments_lexer": "ipython3",
   "version": "3.7.4"
  }
 },
 "nbformat": 4,
 "nbformat_minor": 2
}
