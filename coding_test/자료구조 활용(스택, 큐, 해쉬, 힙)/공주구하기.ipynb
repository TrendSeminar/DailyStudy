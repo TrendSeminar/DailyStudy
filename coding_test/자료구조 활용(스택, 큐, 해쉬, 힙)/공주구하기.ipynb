{
 "cells": [
  {
   "cell_type": "markdown",
   "metadata": {},
   "source": [
    "#### 공주 구하기(큐 자료구조로 해결)\n",
    "#### 정보 왕국의 이웃 나라 외동딸 공주가 숲속의 괴물에게 잡혀갔습니다.\n",
    "#### 정보 왕국에는 왕자가 N명이 있는데 서로 공주를 구하러 가겠다고 합니다. 정보왕국의 왕은\n",
    "#### 다음과 같은 방법으로 공주를 구하러 갈 왕자를 결정하기로 했습니다.\n",
    "#### 왕은 왕자들을 나이 순으로 1번부터 N번까지 차례로 번호를 매긴다. 그리고 1번 왕자부터 N\n",
    "#### 번 왕자까지 순서대로 시계 방향으로 돌아가며 동그랗게 앉게 한다. 그리고 1번 왕자부터 시\n",
    "#### 계방향으로 돌아가며 1부터 시작하여 번호를 외치게 한다. 한 왕자가 K(특정숫자)를 외치면 그\n",
    "#### 왕자는 공주를 구하러 가는데서 제외되고 원 밖으로 나오게 된다. 그리고 다음 왕자부터 다시\n",
    "#### 1부터 시작하여 번호를 외친다.\n",
    "#### 이렇게 해서 마지막까지 남은 왕자가 공주를 구하러 갈 수 있다.\n",
    "#### 1\n",
    "#### 8 2\n",
    "#### 7 3\n",
    "#### 6\n",
    "#### 5\n",
    "#### 4\n",
    "#### 예를 들어 총 8명의 왕자가 있고, 3을 외친 왕자가 제외된다고 하자. 처음에는 3번 왕자가 3\n",
    "#### 을 외쳐 제외된다. 이어 6, 1, 5, 2, 8, 4번 왕자가 차례대로 제외되고 마지막까지 남게 된 7\n",
    "#### 번 왕자에게 공주를 구하러갑니다.\n",
    "#### N과 K가 주어질 때 공주를 구하러 갈 왕자의 번호를 출력하는 프로그램을 작성하시오.\n",
    "#### ▣ 입력설명\n",
    "#### 첫 줄에 자연수 N(5<=N<=1,000)과 K(2<=K<=9)가 주어진다.\n",
    "#### ▣ 출력설명\n",
    "#### 첫 줄에 마지막 남은 왕자의 번호를 출력합니다.\n",
    "#### ▣ 입력예제 1\n",
    "#### 8 3\n",
    "#### ▣ 출력예제 1\n",
    "#### 7"
   ]
  },
  {
   "cell_type": "code",
   "execution_count": 4,
   "metadata": {},
   "outputs": [],
   "source": [
    "from collections import deque"
   ]
  },
  {
   "cell_type": "code",
   "execution_count": 8,
   "metadata": {},
   "outputs": [
    {
     "name": "stdout",
     "output_type": "stream",
     "text": [
      "8 3\n"
     ]
    }
   ],
   "source": [
    "n, k=map(int, input().split())"
   ]
  },
  {
   "cell_type": "code",
   "execution_count": 6,
   "metadata": {},
   "outputs": [],
   "source": [
    "q=list(range(1, n+1))"
   ]
  },
  {
   "cell_type": "code",
   "execution_count": 45,
   "metadata": {},
   "outputs": [
    {
     "name": "stdout",
     "output_type": "stream",
     "text": [
      "7\n"
     ]
    }
   ],
   "source": [
    "dq=deque(q)\n",
    "while dq:\n",
    "    for _ in range(k-1):\n",
    "        cur=dq.popleft()\n",
    "        dq.append(cur)\n",
    "    dq.popleft()\n",
    "    if len(dq)==1:\n",
    "        print(dq[0])\n",
    "        break\n"
   ]
  }
 ],
 "metadata": {
  "kernelspec": {
   "display_name": "Python 3",
   "language": "python",
   "name": "python3"
  },
  "language_info": {
   "codemirror_mode": {
    "name": "ipython",
    "version": 3
   },
   "file_extension": ".py",
   "mimetype": "text/x-python",
   "name": "python",
   "nbconvert_exporter": "python",
   "pygments_lexer": "ipython3",
   "version": "3.7.4"
  }
 },
 "nbformat": 4,
 "nbformat_minor": 2
}
