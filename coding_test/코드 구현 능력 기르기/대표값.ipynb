{
 "cells": [
  {
   "cell_type": "markdown",
   "metadata": {},
   "source": [
    "### 대표값\n",
    "### N명의 학생의 수학점수가 주어집니다. N명의 학생들의 평균(소수 첫째자리 반올림)을 구하고,\n",
    "### N명의 학생 중 평균에 가장 가까운 학생은 몇 번째 학생인지 출력하는 프로그램을 작성하세요.\n",
    "### 평균과 가장 가까운 점수가 여러 개일 경우 먼저 점수가 높은 학생의 번호를 답으로 하고, 높은 \n",
    "### 점수를 가진 학생이 여러 명일 경우 그 중 학생번호가 빠른 학생의 번호를 답으로 합니다.\n",
    "### ▣ 입력설명\n",
    "### 첫줄에 자연수 N(5<=N<=100)이 주어지고, 두 번째 줄에는 각 학생의 수학점수인 N개의 자연\n",
    "### 수가 주어집니다. 학생의 번호는 앞에서부터 1로 시작해서 N까지이다.\n",
    "### ▣ 출력설명\n",
    "### 첫줄에 평균과 평균에 가장 가까운 학생의 번호를 출력한다.\n",
    "### 평균은 소수 첫째 자리에서 반올림합니다.\n",
    "### ▣ 입력예제 1\n",
    "### 10\n",
    "### 45 73 66 87 92 67 75 79 75 80\n",
    "### ▣ 출력예제 1\n",
    "### 74 7\n",
    "### 예제설명)\n",
    "### 평균이 74점으로 평균과 가장 가까운 점수는 73(2번), 75(7번), 75(9번)입니다. 여기서 점수가 높은\n",
    "#### 75(7번), 75(9번)이 답이 될 수 있고, 75점이 두명이므로 학생번호가 빠른 7번이 답이 됩니다."
   ]
  },
  {
   "cell_type": "code",
   "execution_count": 1,
   "metadata": {},
   "outputs": [
    {
     "name": "stdout",
     "output_type": "stream",
     "text": [
      "10\n",
      "45 73 66 87 92 67 75 79 75 80\n"
     ]
    }
   ],
   "source": [
    "N =int(input())\n",
    "scores = [int(x) for x in input().split(' ')]"
   ]
  },
  {
   "cell_type": "code",
   "execution_count": 25,
   "metadata": {},
   "outputs": [],
   "source": [
    "avg = round(sum(scores)/N)"
   ]
  },
  {
   "cell_type": "code",
   "execution_count": 26,
   "metadata": {},
   "outputs": [],
   "source": [
    "new_scores = []\n",
    "for i in scores:\n",
    "    new_scores.append(abs(i-avg))\n",
    "    "
   ]
  },
  {
   "cell_type": "code",
   "execution_count": 27,
   "metadata": {
    "scrolled": false
   },
   "outputs": [
    {
     "data": {
      "text/plain": [
       "[29, 1, 8, 13, 18, 7, 1, 5, 1, 6]"
      ]
     },
     "execution_count": 27,
     "metadata": {},
     "output_type": "execute_result"
    }
   ],
   "source": [
    "new_scores"
   ]
  },
  {
   "cell_type": "code",
   "execution_count": 34,
   "metadata": {},
   "outputs": [],
   "source": [
    "min_gap = min(new_scores)\n",
    "candidate = []\n",
    "for i,c in enumerate(new_scores):\n",
    "    if c == min_gap:\n",
    "        candidate.append(i)"
   ]
  },
  {
   "cell_type": "code",
   "execution_count": 36,
   "metadata": {},
   "outputs": [],
   "source": [
    "possible = []\n",
    "for index in candidate:\n",
    "    possible.append(scores[index])"
   ]
  },
  {
   "cell_type": "code",
   "execution_count": 39,
   "metadata": {},
   "outputs": [],
   "source": [
    "final_index = candidate[possible.index(max(possible))]"
   ]
  },
  {
   "cell_type": "code",
   "execution_count": 44,
   "metadata": {},
   "outputs": [
    {
     "name": "stdout",
     "output_type": "stream",
     "text": [
      "75 7\n"
     ]
    }
   ],
   "source": [
    "print(scores[final_index],final_index+1)"
   ]
  }
 ],
 "metadata": {
  "kernelspec": {
   "display_name": "Python 3",
   "language": "python",
   "name": "python3"
  },
  "language_info": {
   "codemirror_mode": {
    "name": "ipython",
    "version": 3
   },
   "file_extension": ".py",
   "mimetype": "text/x-python",
   "name": "python",
   "nbconvert_exporter": "python",
   "pygments_lexer": "ipython3",
   "version": "3.6.10"
  }
 },
 "nbformat": 4,
 "nbformat_minor": 4
}
