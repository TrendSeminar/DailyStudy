{
 "cells": [
  {
   "cell_type": "markdown",
   "metadata": {},
   "source": [
    "### N개의 숫자로 이루어진 숫자열이 주어지면 해당 숫자열중에서 s번째부터 e번째 까지의 수를 \n",
    "### 오름 차순 정렬했을 때 k번째로 나타나는 숫자를 출력하는 프로그램을 작성하세요.\n",
    "### ▣ 입력설명\n",
    "### 첫 번째 줄에 테스트 케이스 T(1<=T<=10)이 주어집니다.\n",
    "### 각 케이스별\n",
    "### 첫 번째 줄은 자연수 N(5<=N<=500), s, e, k가 차례로 주어진다.\n",
    "### 두 번째 줄에 N개의 숫자가 차례로 주어진다.\n",
    "### ▣ 출력설명\n",
    "### 각 케이스별 k번째 수를 아래 출력예제와 같이 출력하세요.\n",
    "### ▣ 입력예제 1\n",
    "### 2\n",
    "### 6 2 5 3\n",
    "### 5 2 7 3 8 9\n",
    "### 15 3 10 3\n",
    "### 4 15 8 16 6 6 17 3 10 11 18 7 14 7 15\n",
    "### ▣ 출력예제 1\n",
    "### #1 7\n",
    "### #2 6\n",
    "### 입력예제1 해설 :\n",
    "### case 1 : 2 7 3 8의 숫자 중 오름차순 정렬 했을 때 3번째 숫자는 7이다.\n",
    "### case 2 : 8 16 6 6 17 3 10 11의 숫자 중 오름차순 정렬 했을 때 3번째 숫자는 6이다."
   ]
  },
  {
   "cell_type": "code",
   "execution_count": 2,
   "metadata": {},
   "outputs": [
    {
     "name": "stdout",
     "output_type": "stream",
     "text": [
      "2\n"
     ]
    }
   ],
   "source": [
    "T = int(input())"
   ]
  },
  {
   "cell_type": "code",
   "execution_count": 15,
   "metadata": {},
   "outputs": [
    {
     "name": "stdout",
     "output_type": "stream",
     "text": [
      "2\n",
      "6 2 5 3\n",
      "5 2 7 3 8 9\n",
      "15 3 10 3\n",
      "4 15 8 16 6 6 17 3 10 11 18 7 14 7 15\n",
      "#1 7\n",
      "#2 6\n"
     ]
    }
   ],
   "source": [
    "T = int(input())\n",
    "answer = []\n",
    "for i in range(T):\n",
    "    N, s, e, k = [int(_) for _ in input().split(' ')]\n",
    "    target = [int(_) for _ in input().split(' ')]\n",
    "    part = target[s-1:e]\n",
    "    part.sort()\n",
    "    answer.append(part[k-1])\n",
    "    \n",
    "for i in range(T):\n",
    "    print('#%d %d'%(i+1,answer[i]))"
   ]
  },
  {
   "cell_type": "code",
   "execution_count": null,
   "metadata": {},
   "outputs": [],
   "source": []
  }
 ],
 "metadata": {
  "kernelspec": {
   "display_name": "Python 3",
   "language": "python",
   "name": "python3"
  },
  "language_info": {
   "codemirror_mode": {
    "name": "ipython",
    "version": 3
   },
   "file_extension": ".py",
   "mimetype": "text/x-python",
   "name": "python",
   "nbconvert_exporter": "python",
   "pygments_lexer": "ipython3",
   "version": "3.6.10"
  }
 },
 "nbformat": 4,
 "nbformat_minor": 4
}
