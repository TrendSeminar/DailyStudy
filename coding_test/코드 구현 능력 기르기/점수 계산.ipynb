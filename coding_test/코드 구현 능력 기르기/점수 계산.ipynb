{
 "cells": [
  {
   "cell_type": "markdown",
   "metadata": {},
   "source": [
    "### OX 문제는 맞거나 틀린 두 경우의 답을 가지는 문제를 말한다. 여러 개의 OX 문제로 만들어진\n",
    "### 시험에서 연속적으로 답을 맞히는 경우에는 가산점을 주기 위해서 다음과 같이 점수 계산을 하기\n",
    "### 로 하였다. 1번 문제가 맞는 경우에는 1점으로 계산한다. 앞의 문제에 대해서는 답을 틀리다가\n",
    "### 답이 맞는 처음 문제는 1점으로 계산한다. 또한, 연속으로 문제의 답이 맞는 경우에서 두 번째\n",
    "### 문제는 2점, 세 번째 문제는 3점, ..., K번째 문제는 K점으로 계산한다. 틀린 문제는 0점으로 계\n",
    "### 산한다.\n",
    "### 예를 들어, 아래와 같이 10 개의 OX 문제에서 답이 맞은 문제의 경우에는 1로 표시하고, 틀린 경\n",
    "### 우에는 0으로 표시하였을 때, 점수 계산은 아래 표와 같이 계산되어, 총 점수는\n",
    "### 1+1+2+3+1+2=10 점이다.\n",
    "###  1 0 1 1 1 0 0 1 1 0\n",
    "### 채점 1 0 1 1 1 0 0 1 1 0\n",
    "### 점수 1 0 1 2 3 0 0 1 2 0\n",
    "### 시험문제의 채점 결과가 주어졌을 때, 총 점수를 계산하는 프로그램을 작성하시오.\n",
    "### ▣ 입력설명\n",
    "### 첫째 줄에 문제의 개수 N (1 ≤ N ≤ 100)이 주어진다. 둘째 줄에는 N개 문제의 채점 결과를 나\n",
    "### 타내는 0 혹은 1이 빈 칸을 사이에 두고 주어진다. 0은 문제의 답이 틀린 경우이고, 1은 문제의\n",
    "### 답이 맞는 경우이다.\n",
    "### ▣ 출력설명\n",
    "### 첫째 줄에 입력에서 주어진 채점 결과에 대하여 가산점을 고려한 총 점수를 출력한다.\n",
    "### ▣ 입력예제 1\n",
    "### 10\n",
    "### 1 0 1 1 1 0 0 1 1 0\n",
    "### ▣ 출력예제 1\n",
    "### 10\n"
   ]
  },
  {
   "cell_type": "code",
   "execution_count": 7,
   "metadata": {},
   "outputs": [
    {
     "name": "stdout",
     "output_type": "stream",
     "text": [
      "20\n"
     ]
    }
   ],
   "source": [
    "N = int(input())"
   ]
  },
  {
   "cell_type": "code",
   "execution_count": 8,
   "metadata": {},
   "outputs": [
    {
     "name": "stdout",
     "output_type": "stream",
     "text": [
      "0 0 0 0 0 0 1 0 0 1 0 0 0 1 0 0 0 1 1 1\n"
     ]
    }
   ],
   "source": [
    "correct = [int(x) for x in input().split(' ')]"
   ]
  },
  {
   "cell_type": "code",
   "execution_count": 9,
   "metadata": {},
   "outputs": [],
   "source": [
    "answer = 0\n",
    "temp = 0 \n",
    "before = 0\n",
    "\n",
    "for c in correct:\n",
    "    if c ==1 and before == 0:\n",
    "        before = 1 \n",
    "        temp = 1\n",
    "        answer += 1\n",
    "    elif c ==1 and before ==1:\n",
    "        temp += 1\n",
    "        answer += temp\n",
    "    elif c ==0:\n",
    "        temp = 0\n",
    "        before = 0"
   ]
  },
  {
   "cell_type": "code",
   "execution_count": 10,
   "metadata": {},
   "outputs": [
    {
     "name": "stdout",
     "output_type": "stream",
     "text": [
      "9\n"
     ]
    }
   ],
   "source": [
    "print(answer)"
   ]
  }
 ],
 "metadata": {
  "kernelspec": {
   "display_name": "Python 3",
   "language": "python",
   "name": "python3"
  },
  "language_info": {
   "codemirror_mode": {
    "name": "ipython",
    "version": 3
   },
   "file_extension": ".py",
   "mimetype": "text/x-python",
   "name": "python",
   "nbconvert_exporter": "python",
   "pygments_lexer": "ipython3",
   "version": "3.7.4"
  }
 },
 "nbformat": 4,
 "nbformat_minor": 2
}
