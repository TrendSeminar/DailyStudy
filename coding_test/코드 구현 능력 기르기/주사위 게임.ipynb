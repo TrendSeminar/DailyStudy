{
 "cells": [
  {
   "cell_type": "markdown",
   "metadata": {},
   "source": [
    "### 주사위 게임\n",
    "### 1에서부터 6까지의 눈을 가진 3개의 주사위를 던져서 다음과 같은 규칙에 따라 상금을 받는 게\n",
    "### 임이 있다.\n",
    "### 규칙(1) 같은 눈이 3개가 나오면 10,000원+(같은 눈)*1,000원의 상금을 받게 된다.\n",
    "### 규칙(2) 같은 눈이 2개만 나오는 경우에는 1,000원+(같은 눈)*100원의 상금을 받게 된다.\n",
    "### 규칙(3) 모두 다른 눈이 나오는 경우에는 (그 중 가장 큰 눈)*100원의 상금을 받게 된다.\n",
    "### 예를 들어, 3개의 눈 3, 3, 6이 주어지면 상금은 1,000+3*100으로 계산되어 1,300원을 받게 된\n",
    "### 다. 또 3개의 눈이 2, 2, 2로 주어지면 10,000+2*1,000 으로 계산되어 12,000원을 받게 된다.\n",
    "### 3개의 눈이 6, 2, 5로 주어지면 그 중 가장 큰 값이 6이므로 6*100으로 계산되어 600원을 상금\n",
    "### 으로 받게 된다.\n",
    "### N 명이 주사위 게임에 참여하였을 때, 가장 많은 상금을 받은 사람의 상금을 출력하는 프로그램\n",
    "### 을 작성하시오\n",
    "### ▣ 입력설명\n",
    "### 첫째 줄에는 참여하는 사람 수 N(2<=N<=1,000)이 주어지고 그 다음 줄부터 N개의 줄에 사람\n",
    "### 들이 주사위를 던진 3개의 눈이 빈칸을 사이에 두고 각각 주어진다.\n",
    "### ▣ 출력설명\n",
    "### 첫째 줄에 가장 많은 상금을 받은 사람의 상금을 출력한다.\n",
    "### ▣ 입력예제 1\n",
    "### 3\n",
    "### 3 3 6\n",
    "### 2 2 2\n",
    "### 6 2 5\n",
    "### ▣ 출력예제 1\n",
    "### 12000\n"
   ]
  },
  {
   "cell_type": "code",
   "execution_count": 1,
   "metadata": {
    "scrolled": true
   },
   "outputs": [
    {
     "name": "stdout",
     "output_type": "stream",
     "text": [
      "3\n"
     ]
    }
   ],
   "source": [
    "N = int(input())"
   ]
  },
  {
   "cell_type": "code",
   "execution_count": 8,
   "metadata": {},
   "outputs": [],
   "source": [
    "def how_much(dice):\n",
    "    temp = set(dice)\n",
    "    a,b,c = dice\n",
    "    if len(temp) ==1:\n",
    "        return 10000 + 1000*a\n",
    "    elif a==b and a !=c:\n",
    "        return 1000 + 100*a\n",
    "    elif a==c and a !=b:\n",
    "        return 1000 + 100*b\n",
    "    elif b==c and b !=a:\n",
    "        return 1000 + 100*b\n",
    "    else:\n",
    "        return max(dice)*100"
   ]
  },
  {
   "cell_type": "code",
   "execution_count": 10,
   "metadata": {
    "scrolled": true
   },
   "outputs": [
    {
     "name": "stdout",
     "output_type": "stream",
     "text": [
      "3 3 6\n",
      "2 2 2\n",
      "6 2 5\n"
     ]
    }
   ],
   "source": [
    "answer = -1\n",
    "for _ in range(N):\n",
    "    dice = [int(x) for x in input().split(' ')]\n",
    "    temp = how_much(dice)\n",
    "    if answer < temp:\n",
    "        answer = temp"
   ]
  },
  {
   "cell_type": "code",
   "execution_count": 11,
   "metadata": {},
   "outputs": [
    {
     "name": "stdout",
     "output_type": "stream",
     "text": [
      "12000\n"
     ]
    }
   ],
   "source": [
    "print(answer)"
   ]
  }
 ],
 "metadata": {
  "kernelspec": {
   "display_name": "Python 3",
   "language": "python",
   "name": "python3"
  },
  "language_info": {
   "codemirror_mode": {
    "name": "ipython",
    "version": 3
   },
   "file_extension": ".py",
   "mimetype": "text/x-python",
   "name": "python",
   "nbconvert_exporter": "python",
   "pygments_lexer": "ipython3",
   "version": "3.7.4"
  }
 },
 "nbformat": 4,
 "nbformat_minor": 2
}
